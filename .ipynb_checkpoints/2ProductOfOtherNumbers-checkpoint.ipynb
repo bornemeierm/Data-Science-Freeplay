{
 "cells": [
  {
   "cell_type": "code",
   "execution_count": 1,
   "metadata": {},
   "outputs": [],
   "source": [
    "import pandas as pd\n",
    "import numpy as np\n",
    "import matplotlib.pyplot as plt\n",
    "import math\n",
    "from collections import defaultdict, Counter\n",
    "import random\n",
    "import time\n",
    "from collections import defaultdict\n",
    "from __future__ import division\n",
    "from scipy import stats"
   ]
  },
  {
   "cell_type": "code",
   "execution_count": 36,
   "metadata": {},
   "outputs": [],
   "source": [
    "a = np.asarray([2, 7, 3, 4], dtype = int);"
   ]
  },
  {
   "cell_type": "code",
   "execution_count": 40,
   "metadata": {},
   "outputs": [
    {
     "name": "stdout",
     "output_type": "stream",
     "text": [
      "1\n"
     ]
    }
   ],
   "source": [
    "print(np.prod(a[0:0]))"
   ]
  },
  {
   "cell_type": "code",
   "execution_count": 38,
   "metadata": {},
   "outputs": [
    {
     "data": {
      "text/plain": [
       "'def get_products_of_all_ints_except_at_index(x):\\n    N = len(x)\\n    b = np.zeros(N,dtype=int)\\n\\n    for i in range(N):\\n            b[i] = np.prod(a)/a[i]\\n    c = np.ndarray.tolist(b);\\n    return c'"
      ]
     },
     "execution_count": 38,
     "metadata": {},
     "output_type": "execute_result"
    }
   ],
   "source": [
    "'''def get_products_of_all_ints_except_at_index(x):\n",
    "    N = len(x)\n",
    "    b = np.zeros(N,dtype=int)\n",
    "\n",
    "    for i in range(N):\n",
    "            b[i] = np.prod(a)/a[i]\n",
    "    c = np.ndarray.tolist(b);\n",
    "    return c'''"
   ]
  },
  {
   "cell_type": "code",
   "execution_count": 46,
   "metadata": {},
   "outputs": [],
   "source": [
    "def get_products_of_all_ints_except_at_index(x):\n",
    "    N = len(x)\n",
    "    b = np.zeros(N,dtype=int)\n",
    "  \n",
    "    for i in range(N):\n",
    "        if i==0:  \n",
    "            b[i] = np.prod(x[i+1:N]);\n",
    "        elif i>0 and i<N:\n",
    "            b[i] = np.prod(x[0:i-1]) * np.prod(x[i+1:N]);\n",
    "        else:\n",
    "            b[i] = np.prod(x[0:N-1])      \n",
    "    c = np.ndarray.tolist(b);\n",
    "    return c"
   ]
  },
  {
   "cell_type": "code",
   "execution_count": 45,
   "metadata": {},
   "outputs": [
    {
     "data": {
      "text/plain": [
       "[84, 12, 8, 14]"
      ]
     },
     "execution_count": 45,
     "metadata": {},
     "output_type": "execute_result"
    }
   ],
   "source": [
    "get_products_of_all_ints_except_at_index(a)"
   ]
  },
  {
   "cell_type": "code",
   "execution_count": null,
   "metadata": {},
   "outputs": [],
   "source": []
  },
  {
   "cell_type": "code",
   "execution_count": null,
   "metadata": {},
   "outputs": [],
   "source": []
  },
  {
   "cell_type": "code",
   "execution_count": null,
   "metadata": {},
   "outputs": [],
   "source": []
  },
  {
   "cell_type": "code",
   "execution_count": 23,
   "metadata": {},
   "outputs": [
    {
     "name": "stdout",
     "output_type": "stream",
     "text": [
      "[84, 12, 28, 21]\n"
     ]
    }
   ],
   "source": [
    "values = get_products_of_all_ints_except_at_index(a)\n",
    "print(values)"
   ]
  },
  {
   "cell_type": "code",
   "execution_count": 24,
   "metadata": {},
   "outputs": [
    {
     "data": {
      "text/plain": [
       "list"
      ]
     },
     "execution_count": 24,
     "metadata": {},
     "output_type": "execute_result"
    }
   ],
   "source": [
    "type(values)"
   ]
  },
  {
   "cell_type": "code",
   "execution_count": null,
   "metadata": {},
   "outputs": [],
   "source": []
  }
 ],
 "metadata": {
  "kernelspec": {
   "display_name": "Python 2",
   "language": "python",
   "name": "python2"
  },
  "language_info": {
   "codemirror_mode": {
    "name": "ipython",
    "version": 2
   },
   "file_extension": ".py",
   "mimetype": "text/x-python",
   "name": "python",
   "nbconvert_exporter": "python",
   "pygments_lexer": "ipython2",
   "version": "2.7.15"
  }
 },
 "nbformat": 4,
 "nbformat_minor": 2
}
