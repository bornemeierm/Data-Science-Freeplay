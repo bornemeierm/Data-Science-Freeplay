{
 "cells": [
  {
   "cell_type": "code",
   "execution_count": 2,
   "metadata": {},
   "outputs": [],
   "source": [
    "import numpy as np"
   ]
  },
  {
   "cell_type": "code",
   "execution_count": 4,
   "metadata": {},
   "outputs": [],
   "source": [
    "my_list = [3,4,6,10,11,15];\n",
    "alices_list = [1,5,8,12,14,19];"
   ]
  },
  {
   "cell_type": "code",
   "execution_count": 29,
   "metadata": {},
   "outputs": [],
   "source": [
    "def merge_sort(list1,list2):\n",
    "    N = len(list1) + len(list2);\n",
    "    merged_list = [0]*(N)\n",
    "    i=0 #init counters\n",
    "    j=0 #init counters\n",
    "    if list1[0] > list2[0]:\n",
    "        merged_list[0] = list2[0]\n",
    "        j+=1\n",
    "    elif list1[0] < list2[0]:\n",
    "        merged_list[0] = list1[0]\n",
    "        i+=1\n",
    "    else: #they are equal, arbitrarily pick from list1\n",
    "        merged_list[0] = list1[0]\n",
    "        i+=1\n",
    "    \n",
    "    while (j < len(list2)) and (i < len(list1)):\n",
    "        for k in range(1,len(merged_list),1):\n",
    "            #print(k)\n",
    "            if list1[i] > list2[j]:\n",
    "                merged_list[k] = list2[j]\n",
    "                j+=1\n",
    "            elif list1[i] < list2[j]:\n",
    "                merged_list[k] = list1[i]\n",
    "                i+=1\n",
    "            else:\n",
    "                merged_list[k] = list1[i]\n",
    "                i+=1\n",
    "        \n",
    "            if (i == len(list1)) and (j != len(list2)): #list2 is all that's left\n",
    "                merged_list[k:N] = list2[j:len(list2)]\n",
    "                j+=1\n",
    "            elif (j == len(list2)) and (i != len(list1)): #list1 is all that's left\n",
    "                merged_list[k:N] = list1[i:len(list1)]\n",
    "                i+=1\n",
    "            else:\n",
    "                continue\n",
    "        \n",
    "            if (j==len(list2)) and (i==len(list1)):\n",
    "                break\n",
    "        return merged_list"
   ]
  },
  {
   "cell_type": "code",
   "execution_count": 30,
   "metadata": {},
   "outputs": [
    {
     "name": "stdout",
     "output_type": "stream",
     "text": [
      "[1, 3, 4, 5, 6, 8, 10, 11, 12, 14, 19]\n"
     ]
    }
   ],
   "source": [
    "mergedlist = merge_sort(my_list,alices_list)\n",
    "print(mergedlist)"
   ]
  },
  {
   "cell_type": "code",
   "execution_count": 21,
   "metadata": {},
   "outputs": [
    {
     "data": {
      "text/plain": [
       "12"
      ]
     },
     "execution_count": 21,
     "metadata": {},
     "output_type": "execute_result"
    }
   ],
   "source": [
    "len(my_list) + len(alices_list)"
   ]
  },
  {
   "cell_type": "code",
   "execution_count": null,
   "metadata": {},
   "outputs": [],
   "source": []
  },
  {
   "cell_type": "code",
   "execution_count": 19,
   "metadata": {},
   "outputs": [],
   "source": []
  },
  {
   "cell_type": "code",
   "execution_count": null,
   "metadata": {},
   "outputs": [],
   "source": []
  }
 ],
 "metadata": {
  "kernelspec": {
   "display_name": "Python 2",
   "language": "python",
   "name": "python2"
  },
  "language_info": {
   "codemirror_mode": {
    "name": "ipython",
    "version": 2
   },
   "file_extension": ".py",
   "mimetype": "text/x-python",
   "name": "python",
   "nbconvert_exporter": "python",
   "pygments_lexer": "ipython2",
   "version": "2.7.15"
  }
 },
 "nbformat": 4,
 "nbformat_minor": 2
}
