{
 "cells": [
  {
   "cell_type": "code",
   "execution_count": 1,
   "metadata": {},
   "outputs": [],
   "source": [
    "import numpy as np\n",
    "import pandas as pd\n",
    "import math"
   ]
  },
  {
   "cell_type": "code",
   "execution_count": 26,
   "metadata": {},
   "outputs": [],
   "source": [
    "words = ['ptolemaic','retrograde','supplant','undulate',\\\n",
    "         'xenoepist','asymptote','babka','banoffee','engender',\\\n",
    "         'karpatka','othellolagkage']"
   ]
  },
  {
   "cell_type": "code",
   "execution_count": 20,
   "metadata": {},
   "outputs": [],
   "source": [
    "def find_rotation_point(words):\n",
    "    first_word = words[0]\n",
    "    floor_index = 0\n",
    "    ceiling_index = len(words) - 1\n",
    "    \n",
    "    while floor_index < ceiling_index:\n",
    "        guess_index = floor_index + ((ceiling_index - floor_index)/2)\n",
    "        \n",
    "        if words[guess_index] >= first_word:\n",
    "            floor_index = guess_index\n",
    "        else:\n",
    "            ceiling_index = guess_index\n",
    "            \n",
    "        if floor_index + 1 == ceiling_index:\n",
    "            return ceiling_index"
   ]
  },
  {
   "cell_type": "code",
   "execution_count": 27,
   "metadata": {},
   "outputs": [],
   "source": [
    "def mod_binary_search(words):\n",
    "    floor = 0;\n",
    "    ceiling = len(words)-1;\n",
    "    \n",
    "    while floor < ceiling:\n",
    "        guess = floor + (ceiling-floor)/2\n",
    "        \n",
    "        if words[guess] > words[0]:\n",
    "            floor = guess\n",
    "        else:\n",
    "            ceiling = guess\n",
    "            \n",
    "        if floor + 1 == ceiling:\n",
    "            return ceiling"
   ]
  },
  {
   "cell_type": "code",
   "execution_count": 28,
   "metadata": {},
   "outputs": [
    {
     "data": {
      "text/plain": [
       "10"
      ]
     },
     "execution_count": 28,
     "metadata": {},
     "output_type": "execute_result"
    }
   ],
   "source": [
    "mod_binary_search(words)"
   ]
  },
  {
   "cell_type": "code",
   "execution_count": 21,
   "metadata": {},
   "outputs": [
    {
     "data": {
      "text/plain": [
       "5"
      ]
     },
     "execution_count": 21,
     "metadata": {},
     "output_type": "execute_result"
    }
   ],
   "source": [
    "find_rotation_point(wordlist)"
   ]
  },
  {
   "cell_type": "code",
   "execution_count": null,
   "metadata": {},
   "outputs": [],
   "source": []
  }
 ],
 "metadata": {
  "kernelspec": {
   "display_name": "Python 2",
   "language": "python",
   "name": "python2"
  },
  "language_info": {
   "codemirror_mode": {
    "name": "ipython",
    "version": 2
   },
   "file_extension": ".py",
   "mimetype": "text/x-python",
   "name": "python",
   "nbconvert_exporter": "python",
   "pygments_lexer": "ipython2",
   "version": "2.7.15"
  }
 },
 "nbformat": 4,
 "nbformat_minor": 2
}
