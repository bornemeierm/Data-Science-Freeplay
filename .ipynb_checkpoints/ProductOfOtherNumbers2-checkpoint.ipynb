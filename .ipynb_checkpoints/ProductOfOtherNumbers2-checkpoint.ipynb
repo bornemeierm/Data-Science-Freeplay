{
 "cells": [
  {
   "cell_type": "code",
   "execution_count": 8,
   "metadata": {},
   "outputs": [],
   "source": [
    "import numpy as np"
   ]
  },
  {
   "cell_type": "code",
   "execution_count": 7,
   "metadata": {},
   "outputs": [],
   "source": [
    "a = [1, 7, 3, 4]"
   ]
  },
  {
   "cell_type": "code",
   "execution_count": 22,
   "metadata": {},
   "outputs": [],
   "source": [
    "def product_of_numbers(x):\n",
    "    i = 0\n",
    "    j = 0\n",
    "    N = len(x)\n",
    "    b = np.zeros(N,dtype=int)\n",
    "    y = np.asarray(x,dtype=int)\n",
    "    \n",
    "    for i in range(0,N,1):\n",
    "        \n",
    "        if i == 0:\n",
    "            b[i] = np.prod(y[1:]);\n",
    "        elif (i != 0) and (i != N):   \n",
    "            b[i] = np.prod(np.concatenate((y[0:i],y[int(i+1):])))\n",
    "        else: # i == N\n",
    "            b[i] = np.prod(y[:-1])\n",
    "\n",
    "    #x = np.array((N,N))\n",
    "    #or i in range(0,1,N-1):\n",
    "    #    for j in range(i,N-1,1):\n",
    "    #        x[i,j] = \n",
    "    c = np.array(b).tolist()\n",
    "    return c"
   ]
  },
  {
   "cell_type": "code",
   "execution_count": 23,
   "metadata": {},
   "outputs": [],
   "source": [
    "def product_of_numbers2(x):\n",
    "    i = 0\n",
    "    j = 0\n",
    "    N = len(x)\n",
    "    b = [0] * N\n",
    "    for i in range(0,N,1):\n",
    "        \n",
    "        if i == 0:\n",
    "            b[i] = np.prod(x[1:]);\n",
    "        elif (i != 0) and (i != N):   \n",
    "            b[i] = np.prod((x[0:i] + x[int(i+1):]))\n",
    "        else: # i == N\n",
    "            b[i] = np.prod(y[:-1])\n",
    "    return b"
   ]
  },
  {
   "cell_type": "code",
   "execution_count": null,
   "metadata": {},
   "outputs": [],
   "source": []
  },
  {
   "cell_type": "code",
   "execution_count": 24,
   "metadata": {},
   "outputs": [
    {
     "name": "stdout",
     "output_type": "stream",
     "text": [
      "10000 loops, best of 3: 36.1 µs per loop\n",
      "[84, 12, 28, 21]\n"
     ]
    }
   ],
   "source": [
    "% timeit product_of_numbers(a)\n",
    "product_array = product_of_numbers(a)\n",
    "print(product_array)"
   ]
  },
  {
   "cell_type": "code",
   "execution_count": 14,
   "metadata": {},
   "outputs": [
    {
     "name": "stdout",
     "output_type": "stream",
     "text": [
      "10000 loops, best of 3: 45.9 µs per loop\n",
      "[84, 12, 28, 21]\n"
     ]
    }
   ],
   "source": [
    "% timeit product_of_numbers2(a)\n",
    "product_array2 = product_of_numbers2(a)\n",
    "print(product_array2)"
   ]
  },
  {
   "cell_type": "code",
   "execution_count": null,
   "metadata": {},
   "outputs": [],
   "source": []
  },
  {
   "cell_type": "code",
   "execution_count": null,
   "metadata": {},
   "outputs": [],
   "source": []
  },
  {
   "cell_type": "code",
   "execution_count": null,
   "metadata": {},
   "outputs": [],
   "source": []
  },
  {
   "cell_type": "code",
   "execution_count": null,
   "metadata": {},
   "outputs": [],
   "source": []
  },
  {
   "cell_type": "code",
   "execution_count": null,
   "metadata": {},
   "outputs": [],
   "source": []
  },
  {
   "cell_type": "code",
   "execution_count": null,
   "metadata": {},
   "outputs": [],
   "source": []
  }
 ],
 "metadata": {
  "kernelspec": {
   "display_name": "Python 2",
   "language": "python",
   "name": "python2"
  },
  "language_info": {
   "codemirror_mode": {
    "name": "ipython",
    "version": 2
   },
   "file_extension": ".py",
   "mimetype": "text/x-python",
   "name": "python",
   "nbconvert_exporter": "python",
   "pygments_lexer": "ipython2",
   "version": "2.7.15"
  }
 },
 "nbformat": 4,
 "nbformat_minor": 2
}
