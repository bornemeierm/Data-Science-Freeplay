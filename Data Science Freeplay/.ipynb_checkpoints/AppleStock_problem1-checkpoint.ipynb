{
 "cells": [
  {
   "cell_type": "code",
   "execution_count": 136,
   "metadata": {},
   "outputs": [],
   "source": [
    "import numpy as np\n",
    "import pandas as pd\n",
    "import matplotlib.pyplot as plt\n",
    "import copy"
   ]
  },
  {
   "cell_type": "code",
   "execution_count": 2,
   "metadata": {},
   "outputs": [],
   "source": [
    "stock_prices = [10, 7, 5, 8, 11, 9]\n",
    "\n",
    "prices = np.asarray(stock_prices);"
   ]
  },
  {
   "cell_type": "code",
   "execution_count": 10,
   "metadata": {},
   "outputs": [],
   "source": [
    "min_price = min(prices)\n",
    "max_price = max(prices)"
   ]
  },
  {
   "cell_type": "code",
   "execution_count": 15,
   "metadata": {},
   "outputs": [
    {
     "name": "stdout",
     "output_type": "stream",
     "text": [
      "(array([2], dtype=int64), array([4], dtype=int64))\n"
     ]
    }
   ],
   "source": [
    "asdf = np.max(diff)\n",
    "type(asdf)\n",
    "\n",
    "index = np.where(diff==asdf)\n",
    "print(index)\n"
   ]
  },
  {
   "cell_type": "code",
   "execution_count": 16,
   "metadata": {},
   "outputs": [],
   "source": [
    "def max_sale(data):\n",
    "    N = len(data)\n",
    "    diff = np.zeros((N,N))\n",
    "    for i in range(0,N,1):\n",
    "        for j in range(i,N,1):\n",
    "            diff[i][j] = data[j] - data[i]\n",
    "    diff_max = np.max(diff)\n",
    "    max_index = np.where(diff ==diff_max)\n",
    "    return diff, diff_max, max_index"
   ]
  },
  {
   "cell_type": "code",
   "execution_count": 19,
   "metadata": {},
   "outputs": [
    {
     "name": "stdout",
     "output_type": "stream",
     "text": [
      "[[ 0. -3. -5. -2.  1. -1.]\n",
      " [ 0.  0. -2.  1.  4.  2.]\n",
      " [ 0.  0.  0.  3.  6.  4.]\n",
      " [ 0.  0.  0.  0.  3.  1.]\n",
      " [ 0.  0.  0.  0.  0. -2.]\n",
      " [ 0.  0.  0.  0.  0.  0.]]\n",
      "6.0\n",
      "(array([2], dtype=int64), array([4], dtype=int64))\n"
     ]
    }
   ],
   "source": [
    "diff, maxsale, maxindex = max_sale(prices)\n",
    "print(diff)\n",
    "print(maxsale)\n",
    "print(maxindex)"
   ]
  },
  {
   "cell_type": "code",
   "execution_count": 27,
   "metadata": {},
   "outputs": [
    {
     "data": {
      "text/plain": [
       "0.0"
      ]
     },
     "execution_count": 27,
     "metadata": {},
     "output_type": "execute_result"
    }
   ],
   "source": [
    "diff[2][2]"
   ]
  },
  {
   "cell_type": "code",
   "execution_count": null,
   "metadata": {},
   "outputs": [],
   "source": [
    "def profit(prices):\n",
    "    max_px = 0\n",
    "    min_px = prices[0]\n",
    "    for px in prices[1:]:\n",
    "        min_px = min(min_px, px)\n",
    "        max_px = max(px - min_px, max_px)\n",
    "    return max_px\n",
    "\n",
    "prices = (20, 18, 14, 17, 20, 21, 15)\n",
    "profit(prices)"
   ]
  },
  {
   "cell_type": "code",
   "execution_count": 134,
   "metadata": {},
   "outputs": [
    {
     "name": "stdout",
     "output_type": "stream",
     "text": [
      "[0, 0, 0, 0, 0, 0, 0, 0, 0, 0, 0, 0, 0, 0, 0, 0, 0, 0, 0, 0]\n"
     ]
    }
   ],
   "source": [
    "a = [0] * 20\n",
    "print(a)"
   ]
  },
  {
   "cell_type": "code",
   "execution_count": 137,
   "metadata": {},
   "outputs": [],
   "source": [
    "b = copy.deepcopy(a)"
   ]
  },
  {
   "cell_type": "code",
   "execution_count": 139,
   "metadata": {},
   "outputs": [],
   "source": [
    "\n",
    "A  = np.array([1,2,3,4])"
   ]
  },
  {
   "cell_type": "code",
   "execution_count": null,
   "metadata": {},
   "outputs": [],
   "source": []
  }
 ],
 "metadata": {
  "kernelspec": {
   "display_name": "Python 2",
   "language": "python",
   "name": "python2"
  },
  "language_info": {
   "codemirror_mode": {
    "name": "ipython",
    "version": 2
   },
   "file_extension": ".py",
   "mimetype": "text/x-python",
   "name": "python",
   "nbconvert_exporter": "python",
   "pygments_lexer": "ipython2",
   "version": "2.7.15"
  }
 },
 "nbformat": 4,
 "nbformat_minor": 2
}
