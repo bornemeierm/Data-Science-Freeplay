{
 "cells": [
  {
   "cell_type": "code",
   "execution_count": 251,
   "metadata": {},
   "outputs": [],
   "source": [
    "import pandas as pd\n",
    "import numpy as np\n",
    "import matplotlib.pyplot as plt\n",
    "import math\n",
    "from collections import defaultdict, Counter\n",
    "import random\n",
    "import time\n",
    "from collections import defaultdict\n",
    "from __future__ import division\n",
    "from scipy import stats"
   ]
  },
  {
   "cell_type": "code",
   "execution_count": 141,
   "metadata": {},
   "outputs": [],
   "source": [
    "empty_dict = {}"
   ]
  },
  {
   "cell_type": "code",
   "execution_count": 142,
   "metadata": {},
   "outputs": [
    {
     "name": "stdout",
     "output_type": "stream",
     "text": [
      "Good morning, Matt!\n"
     ]
    }
   ],
   "source": [
    "f=time.strftime('%H')\n",
    "f=int(f)\n",
    "\n",
    "if f < 12:\n",
    "    print('Good morning, Matt!')\n",
    "elif 12 <= f < 16:\n",
    "    print('Good afternoon, Matt!')\n",
    "else:\n",
    "    print('Good evening, Matt!')   "
   ]
  },
  {
   "cell_type": "code",
   "execution_count": 5,
   "metadata": {},
   "outputs": [],
   "source": [
    "grades = {\"Joel\" : 80, \"Tim\" : 95}"
   ]
  },
  {
   "cell_type": "code",
   "execution_count": 7,
   "metadata": {},
   "outputs": [
    {
     "data": {
      "text/plain": [
       "{'Joel': 80, 'Tim': 95}"
      ]
     },
     "execution_count": 7,
     "metadata": {},
     "output_type": "execute_result"
    }
   ],
   "source": [
    "grades"
   ]
  },
  {
   "cell_type": "code",
   "execution_count": 11,
   "metadata": {},
   "outputs": [
    {
     "name": "stdout",
     "output_type": "stream",
     "text": [
      "80\n"
     ]
    }
   ],
   "source": [
    "joels_grade = grades[\"Joel\"]\n",
    "print joels_grade"
   ]
  },
  {
   "cell_type": "code",
   "execution_count": 13,
   "metadata": {},
   "outputs": [
    {
     "name": "stdout",
     "output_type": "stream",
     "text": [
      "80\n"
     ]
    }
   ],
   "source": [
    "print(joels_grade)"
   ]
  },
  {
   "cell_type": "code",
   "execution_count": 14,
   "metadata": {},
   "outputs": [
    {
     "name": "stdout",
     "output_type": "stream",
     "text": [
      "0\n",
      "1\n",
      "2\n",
      "3\n",
      "4\n",
      "5\n",
      "6\n",
      "7\n",
      "8\n",
      "9\n"
     ]
    }
   ],
   "source": [
    "for i in range(10):\n",
    "    print(i)"
   ]
  },
  {
   "cell_type": "code",
   "execution_count": 20,
   "metadata": {},
   "outputs": [
    {
     "data": {
      "text/plain": [
       "80"
      ]
     },
     "execution_count": 20,
     "metadata": {},
     "output_type": "execute_result"
    }
   ],
   "source": [
    "grades.get(\"Joel\")"
   ]
  },
  {
   "cell_type": "code",
   "execution_count": 22,
   "metadata": {},
   "outputs": [],
   "source": [
    "dict.get?"
   ]
  },
  {
   "cell_type": "code",
   "execution_count": 24,
   "metadata": {},
   "outputs": [
    {
     "name": "stdout",
     "output_type": "stream",
     "text": [
      "None\n"
     ]
    }
   ],
   "source": [
    "novalues = grades.get(\"Kate\")\n",
    "print(novalues)"
   ]
  },
  {
   "cell_type": "code",
   "execution_count": 25,
   "metadata": {},
   "outputs": [
    {
     "data": {
      "text/plain": [
       "5"
      ]
     },
     "execution_count": 25,
     "metadata": {},
     "output_type": "execute_result"
    }
   ],
   "source": [
    "2 + \\\n",
    "3"
   ]
  },
  {
   "cell_type": "code",
   "execution_count": 28,
   "metadata": {},
   "outputs": [
    {
     "data": {
      "text/plain": [
       "['Tim', 'Joel']"
      ]
     },
     "execution_count": 28,
     "metadata": {},
     "output_type": "execute_result"
    }
   ],
   "source": [
    "grades.keys()"
   ]
  },
  {
   "cell_type": "code",
   "execution_count": 29,
   "metadata": {},
   "outputs": [
    {
     "data": {
      "text/plain": [
       "dict"
      ]
     },
     "execution_count": 29,
     "metadata": {},
     "output_type": "execute_result"
    }
   ],
   "source": [
    "type(grades)"
   ]
  },
  {
   "cell_type": "code",
   "execution_count": 32,
   "metadata": {},
   "outputs": [
    {
     "ename": "AttributeError",
     "evalue": "'dict' object has no attribute 'size'",
     "output_type": "error",
     "traceback": [
      "\u001b[1;31m---------------------------------------------------------------------------\u001b[0m",
      "\u001b[1;31mAttributeError\u001b[0m                            Traceback (most recent call last)",
      "\u001b[1;32m<ipython-input-32-f1dccb96dbd6>\u001b[0m in \u001b[0;36m<module>\u001b[1;34m()\u001b[0m\n\u001b[1;32m----> 1\u001b[1;33m \u001b[0mgrades\u001b[0m\u001b[1;33m.\u001b[0m\u001b[0msize\u001b[0m\u001b[1;33m\u001b[0m\u001b[0m\n\u001b[0m",
      "\u001b[1;31mAttributeError\u001b[0m: 'dict' object has no attribute 'size'"
     ]
    }
   ],
   "source": [
    "grades.size"
   ]
  },
  {
   "cell_type": "code",
   "execution_count": 33,
   "metadata": {},
   "outputs": [
    {
     "data": {
      "text/plain": [
       "{'e', 'g', 'i', 'r', 't'}"
      ]
     },
     "execution_count": 33,
     "metadata": {},
     "output_type": "execute_result"
    }
   ],
   "source": [
    "set('tiger')"
   ]
  },
  {
   "cell_type": "code",
   "execution_count": 35,
   "metadata": {},
   "outputs": [],
   "source": [
    "from collections import Counter"
   ]
  },
  {
   "cell_type": "code",
   "execution_count": 36,
   "metadata": {},
   "outputs": [],
   "source": [
    "c = Counter([0, 1, 2, 0])"
   ]
  },
  {
   "cell_type": "code",
   "execution_count": 37,
   "metadata": {},
   "outputs": [
    {
     "data": {
      "text/plain": [
       "Counter({0: 2, 1: 1, 2: 1})"
      ]
     },
     "execution_count": 37,
     "metadata": {},
     "output_type": "execute_result"
    }
   ],
   "source": [
    "c"
   ]
  },
  {
   "cell_type": "code",
   "execution_count": 38,
   "metadata": {},
   "outputs": [],
   "source": [
    "s = set()"
   ]
  },
  {
   "cell_type": "code",
   "execution_count": 39,
   "metadata": {},
   "outputs": [],
   "source": [
    "s.add(1)"
   ]
  },
  {
   "cell_type": "code",
   "execution_count": 40,
   "metadata": {},
   "outputs": [
    {
     "data": {
      "text/plain": [
       "{1}"
      ]
     },
     "execution_count": 40,
     "metadata": {},
     "output_type": "execute_result"
    }
   ],
   "source": [
    "s"
   ]
  },
  {
   "cell_type": "code",
   "execution_count": 41,
   "metadata": {},
   "outputs": [],
   "source": [
    "y = 1 in s"
   ]
  },
  {
   "cell_type": "code",
   "execution_count": 42,
   "metadata": {},
   "outputs": [
    {
     "data": {
      "text/plain": [
       "True"
      ]
     },
     "execution_count": 42,
     "metadata": {},
     "output_type": "execute_result"
    }
   ],
   "source": [
    "y"
   ]
  },
  {
   "cell_type": "code",
   "execution_count": 43,
   "metadata": {},
   "outputs": [
    {
     "data": {
      "text/plain": [
       "bool"
      ]
     },
     "execution_count": 43,
     "metadata": {},
     "output_type": "execute_result"
    }
   ],
   "source": [
    "type(y)"
   ]
  },
  {
   "cell_type": "code",
   "execution_count": 47,
   "metadata": {},
   "outputs": [],
   "source": [
    "x =  [4, 1, 2, 3]"
   ]
  },
  {
   "cell_type": "code",
   "execution_count": 50,
   "metadata": {},
   "outputs": [],
   "source": [
    "x.sort(reverse=True)"
   ]
  },
  {
   "cell_type": "code",
   "execution_count": 51,
   "metadata": {},
   "outputs": [
    {
     "data": {
      "text/plain": [
       "[4, 3, 2, 1]"
      ]
     },
     "execution_count": 51,
     "metadata": {},
     "output_type": "execute_result"
    }
   ],
   "source": [
    "x"
   ]
  },
  {
   "cell_type": "code",
   "execution_count": 57,
   "metadata": {},
   "outputs": [
    {
     "name": "stdout",
     "output_type": "stream",
     "text": [
      "[0.028141736515415627, 0.7536752335998025, 0.6255395726333427, 0.06174423455833078]\n"
     ]
    }
   ],
   "source": [
    "z = [random.random() for itemslist in range(4)]\n",
    "print(z)"
   ]
  },
  {
   "cell_type": "code",
   "execution_count": 58,
   "metadata": {},
   "outputs": [
    {
     "name": "stdout",
     "output_type": "stream",
     "text": [
      "set([0.8309679740974204, 0.12449515402321731, 0.5456038548357807, 0.630514811106433])\n"
     ]
    }
   ],
   "source": [
    "zl = {random.random() for itemslist in range(4)\n",
    "print(zl)"
   ]
  },
  {
   "cell_type": "code",
   "execution_count": 59,
   "metadata": {},
   "outputs": [
    {
     "ename": "TypeError",
     "evalue": "cannot convert dictionary update sequence element #0 to a sequence",
     "output_type": "error",
     "traceback": [
      "\u001b[1;31m---------------------------------------------------------------------------\u001b[0m",
      "\u001b[1;31mTypeError\u001b[0m                                 Traceback (most recent call last)",
      "\u001b[1;32m<ipython-input-59-56033d358f0c>\u001b[0m in \u001b[0;36m<module>\u001b[1;34m()\u001b[0m\n\u001b[1;32m----> 1\u001b[1;33m \u001b[0mzd\u001b[0m \u001b[1;33m=\u001b[0m \u001b[0mdict\u001b[0m\u001b[1;33m(\u001b[0m\u001b[0mrandom\u001b[0m\u001b[1;33m.\u001b[0m\u001b[0mrandom\u001b[0m\u001b[1;33m(\u001b[0m\u001b[1;33m)\u001b[0m \u001b[1;32mfor\u001b[0m \u001b[0mitemslist\u001b[0m \u001b[1;32min\u001b[0m \u001b[0mrange\u001b[0m\u001b[1;33m(\u001b[0m\u001b[1;36m4\u001b[0m\u001b[1;33m)\u001b[0m\u001b[1;33m)\u001b[0m\u001b[1;33m\u001b[0m\u001b[0m\n\u001b[0m\u001b[0;32m      2\u001b[0m \u001b[1;32mprint\u001b[0m\u001b[1;33m(\u001b[0m\u001b[0mzd\u001b[0m\u001b[1;33m)\u001b[0m\u001b[1;33m\u001b[0m\u001b[0m\n",
      "\u001b[1;31mTypeError\u001b[0m: cannot convert dictionary update sequence element #0 to a sequence"
     ]
    }
   ],
   "source": [
    "zd = dict(random.random() for itemslist in range(4))\n",
    "print(zd)"
   ]
  },
  {
   "cell_type": "code",
   "execution_count": 60,
   "metadata": {},
   "outputs": [],
   "source": [
    "dict?"
   ]
  },
  {
   "cell_type": "code",
   "execution_count": 64,
   "metadata": {},
   "outputs": [],
   "source": [
    "s.add?"
   ]
  },
  {
   "cell_type": "code",
   "execution_count": 71,
   "metadata": {},
   "outputs": [],
   "source": [
    "interests = [(0, 'apples'),(0, 'oranges'),(1, 'apples'),(2, 'limes'), (2, 'apples'),(3, 'lemons'),(3, 'apples')]"
   ]
  },
  {
   "cell_type": "code",
   "execution_count": 72,
   "metadata": {},
   "outputs": [
    {
     "data": {
      "text/plain": [
       "[(0, 'apples'),\n",
       " (0, 'oranges'),\n",
       " (1, 'apples'),\n",
       " (2, 'limes'),\n",
       " (2, 'apples'),\n",
       " (3, 'lemons'),\n",
       " (3, 'apples')]"
      ]
     },
     "execution_count": 72,
     "metadata": {},
     "output_type": "execute_result"
    }
   ],
   "source": [
    "interests"
   ]
  },
  {
   "cell_type": "code",
   "execution_count": 73,
   "metadata": {},
   "outputs": [],
   "source": [
    "words_and_counts = Counter(word \n",
    "                           for user, interest in interests \n",
    "                           for word in interest.lower().split())"
   ]
  },
  {
   "cell_type": "code",
   "execution_count": 76,
   "metadata": {},
   "outputs": [
    {
     "name": "stdout",
     "output_type": "stream",
     "text": [
      "apples 4\n"
     ]
    }
   ],
   "source": [
    "for word, count in words_and_counts.most_common():\n",
    "    if count > 1:\n",
    "        print word, count"
   ]
  },
  {
   "cell_type": "code",
   "execution_count": 78,
   "metadata": {},
   "outputs": [],
   "source": [
    "Counter?"
   ]
  },
  {
   "cell_type": "code",
   "execution_count": 81,
   "metadata": {},
   "outputs": [
    {
     "data": {
      "text/plain": [
       "[('apples', 4), ('lemons', 1), ('oranges', 1), ('limes', 1)]"
      ]
     },
     "execution_count": 81,
     "metadata": {},
     "output_type": "execute_result"
    }
   ],
   "source": [
    "words_and_counts.most_common()  #if number, n, inserted in .most_common(), lists n-many elements in descending order of frequency. if left blank, lists all in frequency."
   ]
  },
  {
   "cell_type": "code",
   "execution_count": 82,
   "metadata": {},
   "outputs": [
    {
     "data": {
      "text/plain": [
       "['apples', 'lemons', 'limes', 'oranges']"
      ]
     },
     "execution_count": 82,
     "metadata": {},
     "output_type": "execute_result"
    }
   ],
   "source": [
    "sorted(words_and_counts)  #lists all unique elements"
   ]
  },
  {
   "cell_type": "code",
   "execution_count": 88,
   "metadata": {},
   "outputs": [
    {
     "data": {
      "text/plain": [
       "[1, 4, 1, 1]"
      ]
     },
     "execution_count": 88,
     "metadata": {},
     "output_type": "execute_result"
    }
   ],
   "source": [
    "words_and_counts.values()"
   ]
  },
  {
   "cell_type": "code",
   "execution_count": 87,
   "metadata": {},
   "outputs": [
    {
     "data": {
      "text/plain": [
       "[4, 1, 1, 1]"
      ]
     },
     "execution_count": 87,
     "metadata": {},
     "output_type": "execute_result"
    }
   ],
   "source": [
    "sorted(words_and_counts.values(),reverse=True)"
   ]
  },
  {
   "cell_type": "code",
   "execution_count": 89,
   "metadata": {},
   "outputs": [
    {
     "data": {
      "text/plain": [
       "4"
      ]
     },
     "execution_count": 89,
     "metadata": {},
     "output_type": "execute_result"
    }
   ],
   "source": [
    "words_and_counts['apples']"
   ]
  },
  {
   "cell_type": "code",
   "execution_count": 90,
   "metadata": {},
   "outputs": [],
   "source": [
    "my_tuple = (1,2,3)"
   ]
  },
  {
   "cell_type": "code",
   "execution_count": 91,
   "metadata": {},
   "outputs": [
    {
     "data": {
      "text/plain": [
       "tuple"
      ]
     },
     "execution_count": 91,
     "metadata": {},
     "output_type": "execute_result"
    }
   ],
   "source": [
    "type(my_tuple)"
   ]
  },
  {
   "cell_type": "code",
   "execution_count": 92,
   "metadata": {},
   "outputs": [
    {
     "ename": "TypeError",
     "evalue": "'tuple' object does not support item assignment",
     "output_type": "error",
     "traceback": [
      "\u001b[1;31m---------------------------------------------------------------------------\u001b[0m",
      "\u001b[1;31mTypeError\u001b[0m                                 Traceback (most recent call last)",
      "\u001b[1;32m<ipython-input-92-f603c124c851>\u001b[0m in \u001b[0;36m<module>\u001b[1;34m()\u001b[0m\n\u001b[1;32m----> 1\u001b[1;33m \u001b[0mmy_tuple\u001b[0m\u001b[1;33m[\u001b[0m\u001b[1;36m0\u001b[0m\u001b[1;33m]\u001b[0m \u001b[1;33m=\u001b[0m \u001b[1;36m1\u001b[0m\u001b[1;33m\u001b[0m\u001b[0m\n\u001b[0m",
      "\u001b[1;31mTypeError\u001b[0m: 'tuple' object does not support item assignment"
     ]
    }
   ],
   "source": [
    "my_tuple[0] = 1"
   ]
  },
  {
   "cell_type": "code",
   "execution_count": 94,
   "metadata": {},
   "outputs": [
    {
     "name": "stdout",
     "output_type": "stream",
     "text": [
      "can't touch this!\n"
     ]
    }
   ],
   "source": [
    "try: \n",
    "    my_tuple[0] = 2;\n",
    "except TypeError:\n",
    "    print \"can't touch this!\""
   ]
  },
  {
   "cell_type": "code",
   "execution_count": 136,
   "metadata": {},
   "outputs": [],
   "source": [
    "x = [1,2,3];y=[4,5,6]"
   ]
  },
  {
   "cell_type": "code",
   "execution_count": 96,
   "metadata": {},
   "outputs": [
    {
     "ename": "TypeError",
     "evalue": "'list' object cannot be interpreted as an index",
     "output_type": "error",
     "traceback": [
      "\u001b[1;31m---------------------------------------------------------------------------\u001b[0m",
      "\u001b[1;31mTypeError\u001b[0m                                 Traceback (most recent call last)",
      "\u001b[1;32m<ipython-input-96-7c0df4817fb5>\u001b[0m in \u001b[0;36m<module>\u001b[1;34m()\u001b[0m\n\u001b[1;32m----> 1\u001b[1;33m \u001b[0mnp\u001b[0m\u001b[1;33m.\u001b[0m\u001b[0mconcatenate\u001b[0m\u001b[1;33m(\u001b[0m\u001b[0mx\u001b[0m\u001b[1;33m,\u001b[0m\u001b[0my\u001b[0m\u001b[1;33m)\u001b[0m\u001b[1;33m\u001b[0m\u001b[0m\n\u001b[0m",
      "\u001b[1;31mTypeError\u001b[0m: 'list' object cannot be interpreted as an index"
     ]
    }
   ],
   "source": [
    "np.concatenate(x,y)"
   ]
  },
  {
   "cell_type": "code",
   "execution_count": 97,
   "metadata": {},
   "outputs": [],
   "source": [
    "np.concatenate?"
   ]
  },
  {
   "cell_type": "code",
   "execution_count": 98,
   "metadata": {},
   "outputs": [],
   "source": [
    "npx = np.asarray(x); #can do this because lists are homogeenous (in this case integers)"
   ]
  },
  {
   "cell_type": "code",
   "execution_count": 99,
   "metadata": {},
   "outputs": [],
   "source": [
    "npy = np.asarray(y); #can do this because lists are homogeenous (in this case integers)"
   ]
  },
  {
   "cell_type": "code",
   "execution_count": 105,
   "metadata": {},
   "outputs": [],
   "source": [
    "npxy = np.concatenate((npx,npy))"
   ]
  },
  {
   "cell_type": "code",
   "execution_count": 103,
   "metadata": {},
   "outputs": [
    {
     "data": {
      "text/plain": [
       "numpy.ndarray"
      ]
     },
     "execution_count": 103,
     "metadata": {},
     "output_type": "execute_result"
    }
   ],
   "source": [
    "type(npx)"
   ]
  },
  {
   "cell_type": "code",
   "execution_count": 106,
   "metadata": {},
   "outputs": [
    {
     "data": {
      "text/plain": [
       "array([1, 2, 3, 4, 5, 6])"
      ]
     },
     "execution_count": 106,
     "metadata": {},
     "output_type": "execute_result"
    }
   ],
   "source": [
    "npxy"
   ]
  },
  {
   "cell_type": "code",
   "execution_count": 137,
   "metadata": {},
   "outputs": [],
   "source": [
    "z = x + y"
   ]
  },
  {
   "cell_type": "code",
   "execution_count": 138,
   "metadata": {},
   "outputs": [
    {
     "data": {
      "text/plain": [
       "[1, 2, 3, 4, 5, 6]"
      ]
     },
     "execution_count": 138,
     "metadata": {},
     "output_type": "execute_result"
    }
   ],
   "source": [
    "z"
   ]
  },
  {
   "cell_type": "code",
   "execution_count": 180,
   "metadata": {},
   "outputs": [
    {
     "data": {
      "text/plain": [
       "[('the', 8106),\n",
       " ('and', 4836),\n",
       " ('of', 4093),\n",
       " ('to', 3491),\n",
       " ('a', 2946),\n",
       " ('in', 2546),\n",
       " ('his', 1979),\n",
       " ('he', 1751),\n",
       " ('that', 1704),\n",
       " ('was', 1678),\n",
       " ('i', 1446),\n",
       " ('it', 1408),\n",
       " ('with', 1323),\n",
       " ('had', 1270),\n",
       " ('as', 1113),\n",
       " ('at', 1018),\n",
       " ('you', 1010),\n",
       " ('for', 901),\n",
       " ('her', 853),\n",
       " ('on', 851),\n",
       " ('not', 779),\n",
       " ('is', 734),\n",
       " ('have', 714),\n",
       " ('be', 708),\n",
       " ('were', 633),\n",
       " ('my', 605),\n",
       " ('mr.', 602),\n",
       " ('said', 570),\n",
       " ('by', 558),\n",
       " ('they', 538),\n",
       " ('him', 527),\n",
       " ('this', 520),\n",
       " ('from', 520),\n",
       " ('all', 495),\n",
       " ('so', 454),\n",
       " ('but', 454),\n",
       " ('no', 450),\n",
       " ('or', 426),\n",
       " ('she', 424),\n",
       " ('when', 420),\n",
       " ('been', 415),\n",
       " ('if', 408),\n",
       " ('\\xe2\\x80\\x9ci', 400),\n",
       " ('which', 382),\n",
       " ('there', 378),\n",
       " ('one', 364),\n",
       " ('an', 345),\n",
       " ('who', 345),\n",
       " ('out', 338),\n",
       " ('would', 330),\n",
       " ('your', 328),\n",
       " ('their', 317),\n",
       " ('into', 316),\n",
       " ('are', 309),\n",
       " ('what', 290),\n",
       " ('upon', 281),\n",
       " ('me', 272),\n",
       " ('could', 266),\n",
       " ('will', 261),\n",
       " ('little', 253),\n",
       " ('any', 250),\n",
       " ('up', 248),\n",
       " ('do', 235),\n",
       " ('it,', 231),\n",
       " ('its', 226),\n",
       " ('him,', 226),\n",
       " ('some', 220),\n",
       " ('them', 216),\n",
       " ('than', 215),\n",
       " ('more', 211),\n",
       " ('very', 208),\n",
       " ('am', 205),\n",
       " ('man', 205),\n",
       " ('miss', 202),\n",
       " ('before', 191),\n",
       " ('looked', 186),\n",
       " ('like', 184),\n",
       " ('two', 183),\n",
       " ('never', 177),\n",
       " ('know', 176),\n",
       " ('these', 174),\n",
       " ('made', 173),\n",
       " ('such', 172),\n",
       " ('down', 169),\n",
       " ('other', 166),\n",
       " ('long', 160),\n",
       " ('great', 159),\n",
       " ('good', 159),\n",
       " ('lorry', 158),\n",
       " ('old', 157),\n",
       " ('see', 157),\n",
       " ('through', 156),\n",
       " ('himself', 155),\n",
       " ('we', 154),\n",
       " ('but,', 153),\n",
       " ('much', 152),\n",
       " ('over', 150),\n",
       " ('about', 147),\n",
       " ('time', 146),\n",
       " ('it.', 144),\n",
       " ('has', 143),\n",
       " ('where', 143),\n",
       " ('under', 143),\n",
       " ('hand', 140),\n",
       " ('\\xe2\\x80\\x9cyou', 139),\n",
       " ('madame', 137),\n",
       " ('should', 136),\n",
       " ('might', 135),\n",
       " ('many', 134),\n",
       " ('being', 134),\n",
       " ('you,', 133),\n",
       " ('own', 133),\n",
       " ('after', 132),\n",
       " ('may', 131),\n",
       " ('did', 129),\n",
       " ('came', 127),\n",
       " ('defarge', 127),\n",
       " ('doctor', 127),\n",
       " ('then', 125),\n",
       " ('him.', 125),\n",
       " ('even', 124),\n",
       " ('how', 122),\n",
       " ('head', 122),\n",
       " ('can', 120),\n",
       " ('eyes', 120),\n",
       " ('every', 120),\n",
       " ('looking', 118),\n",
       " ('only', 117),\n",
       " ('lorry,', 116),\n",
       " ('young', 115),\n",
       " ('look', 115),\n",
       " ('come', 115),\n",
       " ('last', 111),\n",
       " ('put', 110),\n",
       " ('turned', 109),\n",
       " ('go', 109),\n",
       " ('must', 109),\n",
       " ('nothing', 108),\n",
       " ('face', 107),\n",
       " ('don\\xe2\\x80\\x99t', 107),\n",
       " ('took', 107),\n",
       " ('those', 106),\n",
       " ('went', 105),\n",
       " ('among', 105),\n",
       " ('now', 105),\n",
       " ('people', 103),\n",
       " ('our', 103),\n",
       " ('without', 101),\n",
       " ('ever', 100),\n",
       " ('another', 98),\n",
       " ('way', 98),\n",
       " ('monsieur', 98),\n",
       " ('seen', 97),\n",
       " ('always', 96),\n",
       " ('\\xe2\\x80\\x9cit', 96),\n",
       " ('her,', 95),\n",
       " ('until', 94),\n",
       " ('let', 94),\n",
       " ('say', 93),\n",
       " ('sat', 92),\n",
       " ('left', 92),\n",
       " ('shall', 91),\n",
       " ('me,', 91),\n",
       " ('them,', 90),\n",
       " ('think', 90),\n",
       " ('three', 88),\n",
       " ('back', 88),\n",
       " ('\\xe2\\x80\\x9cand', 87),\n",
       " ('dear', 86),\n",
       " ('while', 85),\n",
       " ('defarge,', 85),\n",
       " ('that,', 84),\n",
       " ('still', 84),\n",
       " ('tell', 84),\n",
       " ('take', 83),\n",
       " ('night', 83),\n",
       " ('first', 83),\n",
       " ('project', 82),\n",
       " ('again,', 82),\n",
       " ('stood', 81),\n",
       " ('there,', 81),\n",
       " ('few', 80),\n",
       " ('got', 80),\n",
       " ('knew', 79),\n",
       " ('now,', 79),\n",
       " ('brought', 78),\n",
       " ('hands', 78),\n",
       " ('though', 78),\n",
       " ('saw', 77),\n",
       " ('poor', 77),\n",
       " ('life', 76),\n",
       " ('prisoner', 76),\n",
       " ('going', 75),\n",
       " ('well', 75),\n",
       " ('better', 74),\n",
       " ('make', 74),\n",
       " ('here', 73),\n",
       " ('work', 73),\n",
       " ('time,', 72),\n",
       " ('then,', 72),\n",
       " ('against', 72),\n",
       " ('both', 71),\n",
       " ('\\xe2\\x80\\x9cthe', 71),\n",
       " ('returned', 71),\n",
       " ('same', 71),\n",
       " ('most', 71),\n",
       " ('father', 71),\n",
       " ('light', 71),\n",
       " ('far', 70),\n",
       " ('having', 69),\n",
       " ('charles', 69),\n",
       " ('yet', 69),\n",
       " ('\\xe2\\x80\\x9cwhat', 69),\n",
       " ('again', 69),\n",
       " ('taken', 68),\n",
       " ('day', 67),\n",
       " ('asked', 66),\n",
       " ('business', 66),\n",
       " ('whom', 66),\n",
       " ('said,', 65),\n",
       " ('dark', 65),\n",
       " ('once', 65),\n",
       " ('pross,', 64),\n",
       " ('between', 63),\n",
       " ('lucie', 62),\n",
       " ('hope', 62),\n",
       " ('off', 62),\n",
       " ('lay', 62),\n",
       " ('towards', 62),\n",
       " ('hand,', 62),\n",
       " ('place', 62),\n",
       " ('quite', 61),\n",
       " ('away', 61),\n",
       " ('day,', 61),\n",
       " ('was,', 60),\n",
       " ('men', 60),\n",
       " ('door', 60),\n",
       " ('\\xe2\\x80\\x9cthat', 60),\n",
       " ('within', 60),\n",
       " ('get', 60),\n",
       " ('and,', 60),\n",
       " ('darnay', 59),\n",
       " ('night,', 59),\n",
       " ('manette,', 58),\n",
       " ('mind', 58),\n",
       " ('passed', 57),\n",
       " ('found', 57),\n",
       " ('seemed', 57),\n",
       " ('strong', 57),\n",
       " ('round', 57),\n",
       " ('out,', 57),\n",
       " ('name', 57),\n",
       " ('saint', 56),\n",
       " ('carton', 56),\n",
       " ('us', 55),\n",
       " ('years', 54),\n",
       " ('held', 54),\n",
       " ('gutenberg-tm', 54),\n",
       " ('tellson\\xe2\\x80\\x99s', 53),\n",
       " ('set', 53),\n",
       " ('ask', 53),\n",
       " ('heard', 52),\n",
       " ('new', 52),\n",
       " ('laid', 52),\n",
       " ('pross', 52),\n",
       " ('them.', 51),\n",
       " ('known', 51),\n",
       " ('her.', 50),\n",
       " ('gentleman', 50),\n",
       " ('struck', 50),\n",
       " ('done', 50),\n",
       " ('thought', 50),\n",
       " ('manette', 49),\n",
       " ('cruncher', 49),\n",
       " ('half', 49),\n",
       " ('too', 49),\n",
       " ('hold', 48),\n",
       " ('keep', 48),\n",
       " ('way,', 48),\n",
       " ('something', 48),\n",
       " ('defarge.', 47),\n",
       " ('anything', 47),\n",
       " ('stopped', 47),\n",
       " ('\\xe2\\x80\\x9cif', 47),\n",
       " ('here,', 47),\n",
       " ('enough', 47),\n",
       " ('house', 47),\n",
       " ('monseigneur', 47),\n",
       " ('prison', 46),\n",
       " ('so,', 46),\n",
       " ('again.', 46),\n",
       " ('manner', 46),\n",
       " ('behind', 46),\n",
       " ('called', 46),\n",
       " ('things', 45),\n",
       " ('mender', 45),\n",
       " ('close', 45),\n",
       " ('me.', 45),\n",
       " ('red', 45),\n",
       " ('stone', 45),\n",
       " ('chapter', 45),\n",
       " ('state', 45),\n",
       " ('wife', 45),\n",
       " ('carton,', 44),\n",
       " ('whose', 44),\n",
       " ('up,', 44),\n",
       " ('down,', 44),\n",
       " ('face,', 44),\n",
       " ('words', 44),\n",
       " ('carried', 44),\n",
       " ('sydney', 43),\n",
       " ('word', 43),\n",
       " ('speak', 43),\n",
       " ('cannot', 43),\n",
       " ('you.', 43),\n",
       " ('soon', 43),\n",
       " ('\\xe2\\x80\\x9cmy', 43),\n",
       " ('give', 43),\n",
       " ('side', 43),\n",
       " ('stryver,', 43),\n",
       " ('find', 43),\n",
       " ('hear', 43),\n",
       " ('cruncher,', 43),\n",
       " ('told', 42),\n",
       " ('jacques', 42),\n",
       " ('low', 42),\n",
       " ('hundred', 42),\n",
       " ('show', 42),\n",
       " ('cried', 42),\n",
       " ('child', 41),\n",
       " ('on,', 41),\n",
       " ('gone', 41),\n",
       " ('husband', 41),\n",
       " ('began', 41),\n",
       " ('almost', 41),\n",
       " ('whether', 41),\n",
       " ('love', 40),\n",
       " ('walked', 40),\n",
       " ('\\xe2\\x80\\x9cbut', 40),\n",
       " ('heart', 40),\n",
       " ('father,', 40),\n",
       " ('coming', 40),\n",
       " ('taking', 40),\n",
       " ('usual', 40),\n",
       " ('opened', 40),\n",
       " ('small', 39),\n",
       " ('lorry.', 39),\n",
       " ('jerry', 39),\n",
       " ('kept', 39),\n",
       " ('near', 39),\n",
       " ('faces', 39),\n",
       " ('rather', 39),\n",
       " ('man,', 38),\n",
       " ('observed', 38),\n",
       " ('hard', 38),\n",
       " ('already', 38),\n",
       " ('stryver', 38),\n",
       " ('life,', 38),\n",
       " ('darnay,', 38),\n",
       " ('himself,', 38),\n",
       " ('door,', 37),\n",
       " ('just', 37),\n",
       " ('bad', 37),\n",
       " ('public', 37),\n",
       " ('why', 37),\n",
       " ('dropped', 37),\n",
       " ('part', 37),\n",
       " ('because', 37),\n",
       " ('room', 36),\n",
       " ('leave', 36),\n",
       " ('is,', 36),\n",
       " ('for,', 36),\n",
       " ('french', 36),\n",
       " ('hour', 36),\n",
       " ('repeated', 36),\n",
       " ('it.\\xe2\\x80\\x9d', 36),\n",
       " ('four', 35),\n",
       " ('full', 35),\n",
       " ('high', 35),\n",
       " ('corner', 35),\n",
       " ('believe', 35),\n",
       " ('woman', 35),\n",
       " ('right', 34),\n",
       " ('open', 34),\n",
       " ('whole', 34),\n",
       " ('daughter', 34),\n",
       " ('friend', 34),\n",
       " ('\\xe2\\x80\\x9cis', 34),\n",
       " ('across', 34),\n",
       " ('sound', 34),\n",
       " ('too,', 34),\n",
       " ('\\xe2\\x80\\x9cyes,', 34),\n",
       " ('wine-shop', 34),\n",
       " ('arm', 34),\n",
       " ('this,', 34),\n",
       " ('so.', 33),\n",
       " ('less', 33),\n",
       " ('air', 33),\n",
       " ('fell', 33),\n",
       " ('moved', 33),\n",
       " ('manner,', 33),\n",
       " ('voice,', 33),\n",
       " ('lucie,', 33),\n",
       " ('say,', 33),\n",
       " ('\\xe2\\x80\\x9che', 33),\n",
       " ('away.', 33),\n",
       " ('women', 33),\n",
       " ('best', 32),\n",
       " ('madame,', 32),\n",
       " ('marquis', 32),\n",
       " ('voice', 32),\n",
       " ('answered', 32),\n",
       " ('slowly', 32),\n",
       " ('making', 32),\n",
       " ('thing', 32),\n",
       " ('black', 32),\n",
       " ('often', 32),\n",
       " ('village', 32),\n",
       " ('wine', 31),\n",
       " ('along', 31),\n",
       " ('\\xe2\\x80\\x9cdo', 31),\n",
       " ('streets', 31),\n",
       " ('heavy', 31),\n",
       " ('mind,', 31),\n",
       " ('carriage', 31),\n",
       " ('eyes,', 31),\n",
       " ('doctor,', 31),\n",
       " ('itself', 31),\n",
       " ('out.', 31),\n",
       " ('marquis,', 31),\n",
       " ('large', 31),\n",
       " ('days', 31),\n",
       " ('present', 31),\n",
       " ('father\\xe2\\x80\\x99s', 30),\n",
       " ('certain', 30),\n",
       " ('next', 30),\n",
       " ('doctor\\xe2\\x80\\x99s', 30),\n",
       " ('pretty', 30),\n",
       " ('call', 30),\n",
       " ('moment', 30),\n",
       " ('hair', 30),\n",
       " ('you.\\xe2\\x80\\x9d', 30),\n",
       " ('became', 30),\n",
       " ('there.', 30),\n",
       " ('us,', 30),\n",
       " ('english', 30),\n",
       " ('golden', 29),\n",
       " ('spoke', 29),\n",
       " ('shadow', 29),\n",
       " ('heads', 29),\n",
       " ('doubt', 29),\n",
       " ('does', 29),\n",
       " ('in,', 29),\n",
       " ('nor', 29),\n",
       " ('help', 29),\n",
       " ('kind', 29),\n",
       " ('hand.', 29),\n",
       " ('dead', 29),\n",
       " ('eye', 29),\n",
       " ('bear', 29),\n",
       " ('paper', 29),\n",
       " ('\\xe2\\x80\\x9ca', 29),\n",
       " ('back,', 29),\n",
       " ('well,', 28),\n",
       " ('followed', 28),\n",
       " ('all,', 28),\n",
       " ('room,', 28),\n",
       " ('place,', 28),\n",
       " ('jerry,', 28),\n",
       " ('lady', 28),\n",
       " ('lost', 28),\n",
       " ('answer', 28),\n",
       " ('general', 28),\n",
       " ('shook', 28),\n",
       " ('lorry\\xe2\\x80\\x99s', 28),\n",
       " ('\\xe2\\x80\\x9chow', 27),\n",
       " ('world', 27),\n",
       " ('influence', 27),\n",
       " ('bring', 27),\n",
       " ('five', 27),\n",
       " ('electronic', 27),\n",
       " ('live', 27),\n",
       " ('carton.', 27),\n",
       " ('him;', 27),\n",
       " ('\\xe2\\x80\\x9cto', 27),\n",
       " ('since', 27),\n",
       " ('be,', 27),\n",
       " ('turning', 27),\n",
       " ('either', 27),\n",
       " ('fine', 27),\n",
       " ('gave', 27),\n",
       " ('hair,', 27),\n",
       " ('quiet', 27),\n",
       " ('case', 27),\n",
       " ('rose', 27),\n",
       " ('antoine', 27),\n",
       " ('fingers', 26),\n",
       " ('want', 26),\n",
       " ('really', 26),\n",
       " ('person', 26),\n",
       " ('sight', 26),\n",
       " ('received', 26),\n",
       " ('care', 26),\n",
       " ('mean', 26),\n",
       " ('husband,', 26),\n",
       " ('times', 26),\n",
       " ('figure', 26),\n",
       " ('turn', 26),\n",
       " ('sure', 26),\n",
       " ('way.', 26),\n",
       " ('myself', 26),\n",
       " ('away,', 26),\n",
       " ('one,', 26),\n",
       " ('perhaps', 26),\n",
       " ('secret', 26),\n",
       " ('second', 25),\n",
       " ('crowd', 25),\n",
       " ('it;', 25),\n",
       " ('knitting', 25),\n",
       " ('change', 25),\n",
       " ('read', 25),\n",
       " ('house,', 25),\n",
       " ('beyond', 25),\n",
       " ('arms', 25),\n",
       " ('save', 25),\n",
       " ('france', 25),\n",
       " ('work,', 25),\n",
       " ('wish', 25),\n",
       " ('street', 25),\n",
       " ('each', 25),\n",
       " ('white', 25),\n",
       " ('it\\xe2\\x80\\x99s', 25),\n",
       " ('feet', 25),\n",
       " ('night.', 25),\n",
       " ('spy', 25),\n",
       " ('use', 25),\n",
       " ('me.\\xe2\\x80\\x9d', 25),\n",
       " ('showed', 24),\n",
       " ('raised', 24),\n",
       " ('child,', 24),\n",
       " ('bright', 24),\n",
       " ('expression', 24),\n",
       " ('pass', 24),\n",
       " ('yet,', 24),\n",
       " ('standing', 24),\n",
       " ('bent', 24),\n",
       " ('means', 24),\n",
       " ('moment,', 24),\n",
       " ('roads', 24),\n",
       " ('terms', 24),\n",
       " ('remained', 24),\n",
       " ('\\xe2\\x80\\x9cin', 24),\n",
       " ('used', 24),\n",
       " ('works', 24),\n",
       " ('day.', 24),\n",
       " ('brother', 24),\n",
       " ('gutenberg', 24),\n",
       " ('know,', 24),\n",
       " ('city', 23),\n",
       " ('thousand', 23),\n",
       " ('fire', 23),\n",
       " ('roads,', 23),\n",
       " ('mere', 23),\n",
       " ('paris,', 23),\n",
       " ('year', 23),\n",
       " ('touch', 23),\n",
       " ('death', 23),\n",
       " ('lying', 23),\n",
       " ('herself', 23),\n",
       " ('home', 23),\n",
       " ('friend,', 23),\n",
       " ('seven', 23),\n",
       " ('spy,', 23),\n",
       " ('streets,', 23),\n",
       " ('wife,', 23),\n",
       " ('forth', 23),\n",
       " ('pross.', 23),\n",
       " ('understand', 23),\n",
       " ('coach', 23),\n",
       " ('monseigneur,', 23),\n",
       " ('words,', 23),\n",
       " ('sun', 23),\n",
       " ('horses', 23),\n",
       " ('short', 23),\n",
       " ('strange', 23),\n",
       " ('question', 23),\n",
       " ('thus', 23),\n",
       " ('first,', 22),\n",
       " ('head.', 22),\n",
       " ('bank', 22),\n",
       " ('\\xe2\\x80\\x9cnot', 22),\n",
       " ('together,', 22),\n",
       " ('human', 22),\n",
       " ('paid', 22),\n",
       " ('done,', 22),\n",
       " ('appearance', 22),\n",
       " ('citizen', 22),\n",
       " ('\\xe2\\x80\\x9cgood', 22),\n",
       " ('everything', 22),\n",
       " ('me?\\xe2\\x80\\x9d', 22),\n",
       " ('rising', 22),\n",
       " ('fallen', 22),\n",
       " ('breast,', 22),\n",
       " ('la', 22),\n",
       " ('glass', 21),\n",
       " ('honour', 21),\n",
       " ('alone', 21),\n",
       " ('i\\xe2\\x80\\x99ll', 21),\n",
       " ('he,', 21),\n",
       " ('sea', 21),\n",
       " ('above', 21),\n",
       " ('footsteps', 21),\n",
       " ('\\xe2\\x80\\x9cthere', 21),\n",
       " ('remember', 21),\n",
       " ('cold', 21),\n",
       " ('beside', 21),\n",
       " ('\\xe2\\x80\\x9cas', 21),\n",
       " ('felt', 21),\n",
       " ('thank', 21),\n",
       " ('morning', 21),\n",
       " ('prisoner\\xe2\\x80\\x99s', 21),\n",
       " ('common', 21),\n",
       " ('it?\\xe2\\x80\\x9d', 21),\n",
       " ('blood', 21),\n",
       " ('guard', 21),\n",
       " ('end', 21),\n",
       " ('shadows', 21),\n",
       " ('face.', 21),\n",
       " ('sense', 21),\n",
       " ('except', 21),\n",
       " ('however,', 21),\n",
       " ('table,', 21),\n",
       " ('\\xe2\\x80\\x9cdon\\xe2\\x80\\x99t', 21),\n",
       " ('one.', 21),\n",
       " ('closed', 21),\n",
       " ('nature', 20),\n",
       " ('happy', 20),\n",
       " ('walking', 20),\n",
       " ('power', 20),\n",
       " ('number', 20),\n",
       " ('sometimes', 20),\n",
       " ('sir,\\xe2\\x80\\x9d', 20),\n",
       " ('straight', 20),\n",
       " ('drawn', 20),\n",
       " ('tone', 20),\n",
       " ('true', 20),\n",
       " ('together', 20),\n",
       " ('honest', 20),\n",
       " ('dreadful', 20),\n",
       " ('silence', 20),\n",
       " ('wine,', 20),\n",
       " ('before,', 20),\n",
       " ('fountain,', 20),\n",
       " ('boy', 20),\n",
       " ('yes,', 20),\n",
       " ('road', 20),\n",
       " ('morning,', 20),\n",
       " ('outside', 20),\n",
       " ('business,', 20),\n",
       " ('free', 20),\n",
       " ('ran', 20),\n",
       " ('earth', 20),\n",
       " ('several', 20),\n",
       " ('\\xe2\\x80\\x9cfor', 20),\n",
       " ('wild', 20),\n",
       " ('you,\\xe2\\x80\\x9d', 20),\n",
       " ('thrown', 20),\n",
       " ('people,', 20),\n",
       " ('letter', 19),\n",
       " ('men,', 19),\n",
       " ('echoes', 19),\n",
       " ('natural', 19),\n",
       " ('course', 19),\n",
       " ('spoken', 19),\n",
       " ('rest', 19),\n",
       " ('manette.', 19),\n",
       " ('another,', 19),\n",
       " ('head,', 19),\n",
       " ('become', 19),\n",
       " ('worth', 19),\n",
       " ('iron', 19),\n",
       " ('window', 19),\n",
       " ('yourself', 19),\n",
       " ('return', 19),\n",
       " ('real', 19),\n",
       " ('jarvis', 19),\n",
       " ('ready', 19),\n",
       " ('seeing', 19),\n",
       " ('more.', 19),\n",
       " ('had,', 19),\n",
       " ('mind.', 19),\n",
       " ('court,', 19),\n",
       " ('tellson\\xe2\\x80\\x99s,', 19),\n",
       " ('deep', 19),\n",
       " ('work.', 19),\n",
       " ('paris', 19),\n",
       " ('off,', 19),\n",
       " ('mother', 19),\n",
       " ('defarge\\xe2\\x80\\x99s', 19),\n",
       " ('arose', 19),\n",
       " ('\\xe2\\x80\\x9cwe', 19),\n",
       " ('knows', 19),\n",
       " ('court', 19),\n",
       " ('added', 19),\n",
       " ('wall', 19),\n",
       " ('long,', 18),\n",
       " ('saying', 18),\n",
       " ('touched', 18),\n",
       " ('fair', 18),\n",
       " ('chair', 18),\n",
       " ('past', 18),\n",
       " ('drawing', 18),\n",
       " ('wore', 18),\n",
       " ('can\\xe2\\x80\\x99t', 18),\n",
       " ('\\xe2\\x80\\x9cnow,', 18),\n",
       " ('getting', 18),\n",
       " ('no,', 18),\n",
       " ('caught', 18),\n",
       " ('during', 18),\n",
       " ('years,', 18),\n",
       " ('shaking', 18),\n",
       " ('time.', 18),\n",
       " ('pursued', 18),\n",
       " ('vengeance', 18),\n",
       " ('written', 18),\n",
       " ('times,', 18),\n",
       " ('here.', 18),\n",
       " ('mrs.', 18),\n",
       " ('\\xe2\\x80\\x9cshe', 18),\n",
       " ('themselves', 18),\n",
       " ('passing', 18),\n",
       " ('blue', 18),\n",
       " ('chateau', 18),\n",
       " ('myself,', 18),\n",
       " ('three,', 18),\n",
       " ('corner,', 18),\n",
       " ('hands,', 18),\n",
       " ('suddenly', 18),\n",
       " ('feel', 18),\n",
       " ('window,', 18),\n",
       " ('write', 18),\n",
       " ('fear', 18),\n",
       " ('tears', 17),\n",
       " ('\\xe2\\x80\\x9cthey', 17),\n",
       " ('not?\\xe2\\x80\\x9d', 17),\n",
       " ('temple', 17),\n",
       " ('sir,', 17),\n",
       " ('shut', 17),\n",
       " ('air,', 17),\n",
       " ('darkness', 17),\n",
       " ('\\xe2\\x80\\x9cno,', 17),\n",
       " ('creature', 17),\n",
       " ('notice', 17),\n",
       " ('you?\\xe2\\x80\\x9d', 17),\n",
       " ('fast', 17),\n",
       " ('heaven', 17),\n",
       " ('reason', 17),\n",
       " ('wot', 17),\n",
       " ('me!\\xe2\\x80\\x9d', 17),\n",
       " ('neither', 17),\n",
       " ('scarcely', 17),\n",
       " ('interest', 17),\n",
       " ('living', 17),\n",
       " ('streets.', 17),\n",
       " ('sitting', 17),\n",
       " ('point', 17),\n",
       " ('bench', 17),\n",
       " ('glanced', 17),\n",
       " ('dark,', 17),\n",
       " ('remarkable', 17),\n",
       " ('particular', 17),\n",
       " ('charge', 17),\n",
       " ('bed,', 17),\n",
       " ('woman,', 17),\n",
       " ('drinking', 17),\n",
       " ('lord', 16),\n",
       " ('doors', 16),\n",
       " ('country', 16),\n",
       " ('steps', 16),\n",
       " ('also', 16),\n",
       " ('matter', 16),\n",
       " ('sent', 16),\n",
       " ('length', 16),\n",
       " ('short,', 16),\n",
       " ('innocent', 16),\n",
       " ('courtyard', 16),\n",
       " ('drank', 16),\n",
       " ('arms,', 16),\n",
       " ('order', 16),\n",
       " ('prisoners', 16),\n",
       " ('presented', 16),\n",
       " ('no.', 16),\n",
       " ('hurried', 16),\n",
       " ('come,', 16),\n",
       " ('street,', 16),\n",
       " ('bank,', 16),\n",
       " ('lips', 16),\n",
       " ('father.', 16),\n",
       " ('more,', 16),\n",
       " ('able', 16),\n",
       " ('arm,', 16),\n",
       " ('appeared', 16),\n",
       " ('till', 16),\n",
       " ('tall', 16),\n",
       " ('touching', 16),\n",
       " ('speaking', 16),\n",
       " ('\\xe2\\x80\\x9cthat\\xe2\\x80\\x99s', 16),\n",
       " ('breast', 16),\n",
       " ('sir?\\xe2\\x80\\x9d', 16),\n",
       " ('danger', 16),\n",
       " ('forward', 16),\n",
       " ('single', 16),\n",
       " ('name.', 16),\n",
       " ('home,', 16),\n",
       " ('fellow', 16),\n",
       " ('slight', 16),\n",
       " ('although', 16),\n",
       " ('indeed,', 16),\n",
       " ('too.', 16),\n",
       " ('you!\\xe2\\x80\\x9d', 16),\n",
       " ('heap', 16),\n",
       " ('papers', 16),\n",
       " ('life.', 16),\n",
       " ('waiting', 16),\n",
       " ('evremonde,', 15),\n",
       " ('object', 15),\n",
       " ('door.', 15),\n",
       " ('worked', 15),\n",
       " ('summoned', 15),\n",
       " ('o', 15),\n",
       " ('passenger', 15),\n",
       " ('republic', 15),\n",
       " ('intent', 15),\n",
       " ('jury', 15),\n",
       " ('aside', 15),\n",
       " ('man.', 15),\n",
       " ('so.\\xe2\\x80\\x9d', 15),\n",
       " ('hours', 15),\n",
       " ('anxious', 15),\n",
       " ('witness', 15),\n",
       " ('things,', 15),\n",
       " ('two,', 15),\n",
       " ('miserable', 15),\n",
       " ('jerry.', 15),\n",
       " ('ground', 15),\n",
       " ('bless', 15),\n",
       " ('dear,', 15),\n",
       " ('horse', 15),\n",
       " ('last,', 15),\n",
       " ('vengeance,', 15),\n",
       " ('north', 15),\n",
       " ('me;', 15),\n",
       " ('drew', 15),\n",
       " ('president', 15),\n",
       " ('entered', 15),\n",
       " ('died', 15),\n",
       " ('die', 15),\n",
       " ('mail', 15),\n",
       " ('alone,', 15),\n",
       " ('late', 15),\n",
       " ('twenty', 15),\n",
       " ('least', 15),\n",
       " ('air.', 15),\n",
       " ('\\xe2\\x80\\x9cthen', 15),\n",
       " ('others', 15),\n",
       " ('name,', 15),\n",
       " ('business.', 15),\n",
       " ('occasion', 15),\n",
       " ('ought', 15),\n",
       " ('shining', 15),\n",
       " ('were,', 15),\n",
       " ('sir.\\xe2\\x80\\x9d', 15),\n",
       " ('changed', 15),\n",
       " ('goes', 15),\n",
       " ('water', 15),\n",
       " ('besides', 15),\n",
       " ('days,', 15),\n",
       " ('lips,', 15),\n",
       " ('darnay.', 15),\n",
       " ('himself.', 15),\n",
       " ('united', 15),\n",
       " ('looks', 15),\n",
       " ('midst', 14),\n",
       " ('around', 14),\n",
       " ('access', 14),\n",
       " ('cry', 14),\n",
       " ('opinion', 14),\n",
       " ('confidence', 14),\n",
       " ('sir.', 14),\n",
       " ('foundation', 14),\n",
       " ('gently', 14),\n",
       " ('of,', 14),\n",
       " ('chair,', 14),\n",
       " ('worst', 14),\n",
       " ('lifted', 14),\n",
       " ('cap', 14),\n",
       " ('steady', 14),\n",
       " ('early', 14),\n",
       " ('sydney,', 14),\n",
       " ('pointing', 14),\n",
       " ('family', 14),\n",
       " ('tried', 14),\n",
       " ('dread', 14),\n",
       " ('foot', 14),\n",
       " ('terrible', 14),\n",
       " ('with,', 14),\n",
       " ('probably', 14),\n",
       " ('similar', 14),\n",
       " ('exactly', 14),\n",
       " ('solitary', 14),\n",
       " ('shoulder,', 14),\n",
       " ('kissed', 14),\n",
       " ('me!', 14),\n",
       " ('rest,', 14),\n",
       " ('gabelle', 14),\n",
       " ('third', 14),\n",
       " ('loud', 14),\n",
       " ('man\\xe2\\x80\\x99s', 14),\n",
       " ('do,', 14),\n",
       " ('thoughts', 14),\n",
       " ('paris.', 14),\n",
       " ('\\xe2\\x80\\x9cwill', 14),\n",
       " ('delivered', 14),\n",
       " ('favour', 14),\n",
       " ('money', 14),\n",
       " ('draw', 14),\n",
       " ('broken', 14),\n",
       " ('lady,', 14),\n",
       " ('pleasant', 14),\n",
       " ('\\xe2\\x80\\x9cmr.', 14),\n",
       " ('putting', 14),\n",
       " ('body', 14),\n",
       " ('prisoner,', 14),\n",
       " ('water,', 14),\n",
       " ('hundreds', 14),\n",
       " ('top', 14),\n",
       " ('expected', 14),\n",
       " ('forehead', 14),\n",
       " ('that\\xe2\\x80\\x99s', 14),\n",
       " ('says', 14),\n",
       " ('glancing', 14),\n",
       " ('happened', 14),\n",
       " ('released', 14),\n",
       " ('donations', 14),\n",
       " ('all.', 14),\n",
       " ('stand', 14),\n",
       " ('king', 14),\n",
       " ('various', 14),\n",
       " ('who,', 14),\n",
       " ('daughter,', 14),\n",
       " ('antoine,', 14),\n",
       " ('word,', 14),\n",
       " ('nearer', 14),\n",
       " ('difficult', 14),\n",
       " ('promise', 14),\n",
       " ('her;', 13),\n",
       " ('\\xe2\\x80\\x9care', 13),\n",
       " ('passengers', 13),\n",
       " ('not,', 13),\n",
       " ('spare', 13),\n",
       " ('literary', 13),\n",
       " ('keeping', 13),\n",
       " ('travelling', 13),\n",
       " ('it!', 13),\n",
       " ('seem', 13),\n",
       " ('curious', 13),\n",
       " ('answered,', 13),\n",
       " ('following', 13),\n",
       " ('opportunity', 13),\n",
       " ('it,\\xe2\\x80\\x9d', 13),\n",
       " ('country,', 13),\n",
       " ('hill,', 13),\n",
       " ('prisoner.', 13),\n",
       " ('wretched', 13),\n",
       " ('archive', 13),\n",
       " ('is.\\xe2\\x80\\x9d', 13),\n",
       " ('fire,', 13),\n",
       " ('striking', 13),\n",
       " ('force', 13),\n",
       " ('evening,', 13),\n",
       " ('fountain', 13),\n",
       " ('answer,', 13),\n",
       " ('copyright', 13),\n",
       " ('else', 13),\n",
       " ('started', 13),\n",
       " ('cause', 13),\n",
       " ('bed', 13),\n",
       " ('need', 13),\n",
       " ('soldiers', 13),\n",
       " ('together.', 13),\n",
       " ('\\xe2\\x80\\x9cmiss', 13),\n",
       " ('immediately', 13),\n",
       " ('necessary', 13),\n",
       " ('in.', 13),\n",
       " ('likely', 13),\n",
       " ('light,', 13),\n",
       " ('i,', 13),\n",
       " ('off.', 13),\n",
       " ('group', 13),\n",
       " ('france,', 13),\n",
       " ...]"
      ]
     },
     "execution_count": 180,
     "metadata": {},
     "output_type": "execute_result"
    }
   ],
   "source": [
    "f = open('98-0.txt')#, errors='ignore')\n",
    "g = f.read().lower().split()\n",
    "h = dict(enumerate(g))\n",
    "f.close\n",
    "word_counts = Counter(g)\n",
    "word_counts.most_common()"
   ]
  },
  {
   "cell_type": "code",
   "execution_count": 184,
   "metadata": {},
   "outputs": [
    {
     "data": {
      "text/plain": [
       "[(0, '\\xef\\xbb\\xbfthe'),\n",
       " (1, 'project'),\n",
       " (2, 'gutenberg'),\n",
       " (3, 'ebook'),\n",
       " (4, 'of'),\n",
       " (5, 'a'),\n",
       " (6, 'tale'),\n",
       " (7, 'of'),\n",
       " (8, 'two'),\n",
       " (9, 'cities,'),\n",
       " (10, 'by'),\n",
       " (11, 'charles'),\n",
       " (12, 'dickens'),\n",
       " (13, 'this'),\n",
       " (14, 'ebook'),\n",
       " (15, 'is'),\n",
       " (16, 'for'),\n",
       " (17, 'the'),\n",
       " (18, 'use'),\n",
       " (19, 'of'),\n",
       " (20, 'anyone'),\n",
       " (21, 'anywhere'),\n",
       " (22, 'at'),\n",
       " (23, 'no'),\n",
       " (24, 'cost'),\n",
       " (25, 'and'),\n",
       " (26, 'with'),\n",
       " (27, 'almost'),\n",
       " (28, 'no'),\n",
       " (29, 'restrictions'),\n",
       " (30, 'whatsoever.'),\n",
       " (31, 'you'),\n",
       " (32, 'may'),\n",
       " (33, 'copy'),\n",
       " (34, 'it,'),\n",
       " (35, 'give'),\n",
       " (36, 'it'),\n",
       " (37, 'away'),\n",
       " (38, 'or'),\n",
       " (39, 're-use'),\n",
       " (40, 'it'),\n",
       " (41, 'under'),\n",
       " (42, 'the'),\n",
       " (43, 'terms'),\n",
       " (44, 'of'),\n",
       " (45, 'the'),\n",
       " (46, 'project'),\n",
       " (47, 'gutenberg'),\n",
       " (48, 'license'),\n",
       " (49, 'included'),\n",
       " (50, 'with'),\n",
       " (51, 'this'),\n",
       " (52, 'ebook'),\n",
       " (53, 'or'),\n",
       " (54, 'online'),\n",
       " (55, 'at'),\n",
       " (56, 'www.gutenberg.org'),\n",
       " (57, 'title:'),\n",
       " (58, 'a'),\n",
       " (59, 'tale'),\n",
       " (60, 'of'),\n",
       " (61, 'two'),\n",
       " (62, 'cities'),\n",
       " (63, 'a'),\n",
       " (64, 'story'),\n",
       " (65, 'of'),\n",
       " (66, 'the'),\n",
       " (67, 'french'),\n",
       " (68, 'revolution'),\n",
       " (69, 'author:'),\n",
       " (70, 'charles'),\n",
       " (71, 'dickens'),\n",
       " (72, 'release'),\n",
       " (73, 'date:'),\n",
       " (74, 'january,'),\n",
       " (75, '1994'),\n",
       " (76, '[ebook'),\n",
       " (77, '#98]'),\n",
       " (78, 'posting'),\n",
       " (79, 'date:'),\n",
       " (80, 'november'),\n",
       " (81, '28,'),\n",
       " (82, '2009'),\n",
       " (83, 'last'),\n",
       " (84, 'updated:'),\n",
       " (85, 'september'),\n",
       " (86, '25,'),\n",
       " (87, '2016'),\n",
       " (88, 'language:'),\n",
       " (89, 'english'),\n",
       " (90, 'character'),\n",
       " (91, 'set'),\n",
       " (92, 'encoding:'),\n",
       " (93, 'utf-8'),\n",
       " (94, '***'),\n",
       " (95, 'start'),\n",
       " (96, 'of'),\n",
       " (97, 'this'),\n",
       " (98, 'project'),\n",
       " (99, 'gutenberg'),\n",
       " (100, 'ebook'),\n",
       " (101, 'a'),\n",
       " (102, 'tale'),\n",
       " (103, 'of'),\n",
       " (104, 'two'),\n",
       " (105, 'cities'),\n",
       " (106, '***'),\n",
       " (107, 'produced'),\n",
       " (108, 'by'),\n",
       " (109, 'judith'),\n",
       " (110, 'boss'),\n",
       " (111, 'a'),\n",
       " (112, 'tale'),\n",
       " (113, 'of'),\n",
       " (114, 'two'),\n",
       " (115, 'cities'),\n",
       " (116, 'a'),\n",
       " (117, 'story'),\n",
       " (118, 'of'),\n",
       " (119, 'the'),\n",
       " (120, 'french'),\n",
       " (121, 'revolution'),\n",
       " (122, 'by'),\n",
       " (123, 'charles'),\n",
       " (124, 'dickens'),\n",
       " (125, 'contents'),\n",
       " (126, 'book'),\n",
       " (127, 'the'),\n",
       " (128, 'first--recalled'),\n",
       " (129, 'to'),\n",
       " (130, 'life'),\n",
       " (131, 'chapter'),\n",
       " (132, 'i'),\n",
       " (133, 'the'),\n",
       " (134, 'period'),\n",
       " (135, 'chapter'),\n",
       " (136, 'ii'),\n",
       " (137, 'the'),\n",
       " (138, 'mail'),\n",
       " (139, 'chapter'),\n",
       " (140, 'iii'),\n",
       " (141, 'the'),\n",
       " (142, 'night'),\n",
       " (143, 'shadows'),\n",
       " (144, 'chapter'),\n",
       " (145, 'iv'),\n",
       " (146, 'the'),\n",
       " (147, 'preparation'),\n",
       " (148, 'chapter'),\n",
       " (149, 'v'),\n",
       " (150, 'the'),\n",
       " (151, 'wine-shop'),\n",
       " (152, 'chapter'),\n",
       " (153, 'vi'),\n",
       " (154, 'the'),\n",
       " (155, 'shoemaker'),\n",
       " (156, 'book'),\n",
       " (157, 'the'),\n",
       " (158, 'second--the'),\n",
       " (159, 'golden'),\n",
       " (160, 'thread'),\n",
       " (161, 'chapter'),\n",
       " (162, 'i'),\n",
       " (163, 'five'),\n",
       " (164, 'years'),\n",
       " (165, 'later'),\n",
       " (166, 'chapter'),\n",
       " (167, 'ii'),\n",
       " (168, 'a'),\n",
       " (169, 'sight'),\n",
       " (170, 'chapter'),\n",
       " (171, 'iii'),\n",
       " (172, 'a'),\n",
       " (173, 'disappointment'),\n",
       " (174, 'chapter'),\n",
       " (175, 'iv'),\n",
       " (176, 'congratulatory'),\n",
       " (177, 'chapter'),\n",
       " (178, 'v'),\n",
       " (179, 'the'),\n",
       " (180, 'jackal'),\n",
       " (181, 'chapter'),\n",
       " (182, 'vi'),\n",
       " (183, 'hundreds'),\n",
       " (184, 'of'),\n",
       " (185, 'people'),\n",
       " (186, 'chapter'),\n",
       " (187, 'vii'),\n",
       " (188, 'monseigneur'),\n",
       " (189, 'in'),\n",
       " (190, 'town'),\n",
       " (191, 'chapter'),\n",
       " (192, 'viii'),\n",
       " (193, 'monseigneur'),\n",
       " (194, 'in'),\n",
       " (195, 'the'),\n",
       " (196, 'country'),\n",
       " (197, 'chapter'),\n",
       " (198, 'ix'),\n",
       " (199, 'the'),\n",
       " (200, 'gorgon\\xe2\\x80\\x99s'),\n",
       " (201, 'head'),\n",
       " (202, 'chapter'),\n",
       " (203, 'x'),\n",
       " (204, 'two'),\n",
       " (205, 'promises'),\n",
       " (206, 'chapter'),\n",
       " (207, 'xi'),\n",
       " (208, 'a'),\n",
       " (209, 'companion'),\n",
       " (210, 'picture'),\n",
       " (211, 'chapter'),\n",
       " (212, 'xii'),\n",
       " (213, 'the'),\n",
       " (214, 'fellow'),\n",
       " (215, 'of'),\n",
       " (216, 'delicacy'),\n",
       " (217, 'chapter'),\n",
       " (218, 'xiii'),\n",
       " (219, 'the'),\n",
       " (220, 'fellow'),\n",
       " (221, 'of'),\n",
       " (222, 'no'),\n",
       " (223, 'delicacy'),\n",
       " (224, 'chapter'),\n",
       " (225, 'xiv'),\n",
       " (226, 'the'),\n",
       " (227, 'honest'),\n",
       " (228, 'tradesman'),\n",
       " (229, 'chapter'),\n",
       " (230, 'xv'),\n",
       " (231, 'knitting'),\n",
       " (232, 'chapter'),\n",
       " (233, 'xvi'),\n",
       " (234, 'still'),\n",
       " (235, 'knitting'),\n",
       " (236, 'chapter'),\n",
       " (237, 'xvii'),\n",
       " (238, 'one'),\n",
       " (239, 'night'),\n",
       " (240, 'chapter'),\n",
       " (241, 'xviii'),\n",
       " (242, 'nine'),\n",
       " (243, 'days'),\n",
       " (244, 'chapter'),\n",
       " (245, 'xix'),\n",
       " (246, 'an'),\n",
       " (247, 'opinion'),\n",
       " (248, 'chapter'),\n",
       " (249, 'xx'),\n",
       " (250, 'a'),\n",
       " (251, 'plea'),\n",
       " (252, 'chapter'),\n",
       " (253, 'xxi'),\n",
       " (254, 'echoing'),\n",
       " (255, 'footsteps'),\n",
       " (256, 'chapter'),\n",
       " (257, 'xxii'),\n",
       " (258, 'the'),\n",
       " (259, 'sea'),\n",
       " (260, 'still'),\n",
       " (261, 'rises'),\n",
       " (262, 'chapter'),\n",
       " (263, 'xxiii'),\n",
       " (264, 'fire'),\n",
       " (265, 'rises'),\n",
       " (266, 'chapter'),\n",
       " (267, 'xxiv'),\n",
       " (268, 'drawn'),\n",
       " (269, 'to'),\n",
       " (270, 'the'),\n",
       " (271, 'loadstone'),\n",
       " (272, 'rock'),\n",
       " (273, 'book'),\n",
       " (274, 'the'),\n",
       " (275, 'third--the'),\n",
       " (276, 'track'),\n",
       " (277, 'of'),\n",
       " (278, 'a'),\n",
       " (279, 'storm'),\n",
       " (280, 'chapter'),\n",
       " (281, 'i'),\n",
       " (282, 'in'),\n",
       " (283, 'secret'),\n",
       " (284, 'chapter'),\n",
       " (285, 'ii'),\n",
       " (286, 'the'),\n",
       " (287, 'grindstone'),\n",
       " (288, 'chapter'),\n",
       " (289, 'iii'),\n",
       " (290, 'the'),\n",
       " (291, 'shadow'),\n",
       " (292, 'chapter'),\n",
       " (293, 'iv'),\n",
       " (294, 'calm'),\n",
       " (295, 'in'),\n",
       " (296, 'storm'),\n",
       " (297, 'chapter'),\n",
       " (298, 'v'),\n",
       " (299, 'the'),\n",
       " (300, 'wood-sawyer'),\n",
       " (301, 'chapter'),\n",
       " (302, 'vi'),\n",
       " (303, 'triumph'),\n",
       " (304, 'chapter'),\n",
       " (305, 'vii'),\n",
       " (306, 'a'),\n",
       " (307, 'knock'),\n",
       " (308, 'at'),\n",
       " (309, 'the'),\n",
       " (310, 'door'),\n",
       " (311, 'chapter'),\n",
       " (312, 'viii'),\n",
       " (313, 'a'),\n",
       " (314, 'hand'),\n",
       " (315, 'at'),\n",
       " (316, 'cards'),\n",
       " (317, 'chapter'),\n",
       " (318, 'ix'),\n",
       " (319, 'the'),\n",
       " (320, 'game'),\n",
       " (321, 'made'),\n",
       " (322, 'chapter'),\n",
       " (323, 'x'),\n",
       " (324, 'the'),\n",
       " (325, 'substance'),\n",
       " (326, 'of'),\n",
       " (327, 'the'),\n",
       " (328, 'shadow'),\n",
       " (329, 'chapter'),\n",
       " (330, 'xi'),\n",
       " (331, 'dusk'),\n",
       " (332, 'chapter'),\n",
       " (333, 'xii'),\n",
       " (334, 'darkness'),\n",
       " (335, 'chapter'),\n",
       " (336, 'xiii'),\n",
       " (337, 'fifty-two'),\n",
       " (338, 'chapter'),\n",
       " (339, 'xiv'),\n",
       " (340, 'the'),\n",
       " (341, 'knitting'),\n",
       " (342, 'done'),\n",
       " (343, 'chapter'),\n",
       " (344, 'xv'),\n",
       " (345, 'the'),\n",
       " (346, 'footsteps'),\n",
       " (347, 'die'),\n",
       " (348, 'out'),\n",
       " (349, 'for'),\n",
       " (350, 'ever'),\n",
       " (351, 'book'),\n",
       " (352, 'the'),\n",
       " (353, 'first--recalled'),\n",
       " (354, 'to'),\n",
       " (355, 'life'),\n",
       " (356, 'i.'),\n",
       " (357, 'the'),\n",
       " (358, 'period'),\n",
       " (359, 'it'),\n",
       " (360, 'was'),\n",
       " (361, 'the'),\n",
       " (362, 'best'),\n",
       " (363, 'of'),\n",
       " (364, 'times,'),\n",
       " (365, 'it'),\n",
       " (366, 'was'),\n",
       " (367, 'the'),\n",
       " (368, 'worst'),\n",
       " (369, 'of'),\n",
       " (370, 'times,'),\n",
       " (371, 'it'),\n",
       " (372, 'was'),\n",
       " (373, 'the'),\n",
       " (374, 'age'),\n",
       " (375, 'of'),\n",
       " (376, 'wisdom,'),\n",
       " (377, 'it'),\n",
       " (378, 'was'),\n",
       " (379, 'the'),\n",
       " (380, 'age'),\n",
       " (381, 'of'),\n",
       " (382, 'foolishness,'),\n",
       " (383, 'it'),\n",
       " (384, 'was'),\n",
       " (385, 'the'),\n",
       " (386, 'epoch'),\n",
       " (387, 'of'),\n",
       " (388, 'belief,'),\n",
       " (389, 'it'),\n",
       " (390, 'was'),\n",
       " (391, 'the'),\n",
       " (392, 'epoch'),\n",
       " (393, 'of'),\n",
       " (394, 'incredulity,'),\n",
       " (395, 'it'),\n",
       " (396, 'was'),\n",
       " (397, 'the'),\n",
       " (398, 'season'),\n",
       " (399, 'of'),\n",
       " (400, 'light,'),\n",
       " (401, 'it'),\n",
       " (402, 'was'),\n",
       " (403, 'the'),\n",
       " (404, 'season'),\n",
       " (405, 'of'),\n",
       " (406, 'darkness,'),\n",
       " (407, 'it'),\n",
       " (408, 'was'),\n",
       " (409, 'the'),\n",
       " (410, 'spring'),\n",
       " (411, 'of'),\n",
       " (412, 'hope,'),\n",
       " (413, 'it'),\n",
       " (414, 'was'),\n",
       " (415, 'the'),\n",
       " (416, 'winter'),\n",
       " (417, 'of'),\n",
       " (418, 'despair,'),\n",
       " (419, 'we'),\n",
       " (420, 'had'),\n",
       " (421, 'everything'),\n",
       " (422, 'before'),\n",
       " (423, 'us,'),\n",
       " (424, 'we'),\n",
       " (425, 'had'),\n",
       " (426, 'nothing'),\n",
       " (427, 'before'),\n",
       " (428, 'us,'),\n",
       " (429, 'we'),\n",
       " (430, 'were'),\n",
       " (431, 'all'),\n",
       " (432, 'going'),\n",
       " (433, 'direct'),\n",
       " (434, 'to'),\n",
       " (435, 'heaven,'),\n",
       " (436, 'we'),\n",
       " (437, 'were'),\n",
       " (438, 'all'),\n",
       " (439, 'going'),\n",
       " (440, 'direct'),\n",
       " (441, 'the'),\n",
       " (442, 'other'),\n",
       " (443, 'way--'),\n",
       " (444, 'in'),\n",
       " (445, 'short,'),\n",
       " (446, 'the'),\n",
       " (447, 'period'),\n",
       " (448, 'was'),\n",
       " (449, 'so'),\n",
       " (450, 'far'),\n",
       " (451, 'like'),\n",
       " (452, 'the'),\n",
       " (453, 'present'),\n",
       " (454, 'period,'),\n",
       " (455, 'that'),\n",
       " (456, 'some'),\n",
       " (457, 'of'),\n",
       " (458, 'its'),\n",
       " (459, 'noisiest'),\n",
       " (460, 'authorities'),\n",
       " (461, 'insisted'),\n",
       " (462, 'on'),\n",
       " (463, 'its'),\n",
       " (464, 'being'),\n",
       " (465, 'received,'),\n",
       " (466, 'for'),\n",
       " (467, 'good'),\n",
       " (468, 'or'),\n",
       " (469, 'for'),\n",
       " (470, 'evil,'),\n",
       " (471, 'in'),\n",
       " (472, 'the'),\n",
       " (473, 'superlative'),\n",
       " (474, 'degree'),\n",
       " (475, 'of'),\n",
       " (476, 'comparison'),\n",
       " (477, 'only.'),\n",
       " (478, 'there'),\n",
       " (479, 'were'),\n",
       " (480, 'a'),\n",
       " (481, 'king'),\n",
       " (482, 'with'),\n",
       " (483, 'a'),\n",
       " (484, 'large'),\n",
       " (485, 'jaw'),\n",
       " (486, 'and'),\n",
       " (487, 'a'),\n",
       " (488, 'queen'),\n",
       " (489, 'with'),\n",
       " (490, 'a'),\n",
       " (491, 'plain'),\n",
       " (492, 'face,'),\n",
       " (493, 'on'),\n",
       " (494, 'the'),\n",
       " (495, 'throne'),\n",
       " (496, 'of'),\n",
       " (497, 'england;'),\n",
       " (498, 'there'),\n",
       " (499, 'were'),\n",
       " (500, 'a'),\n",
       " (501, 'king'),\n",
       " (502, 'with'),\n",
       " (503, 'a'),\n",
       " (504, 'large'),\n",
       " (505, 'jaw'),\n",
       " (506, 'and'),\n",
       " (507, 'a'),\n",
       " (508, 'queen'),\n",
       " (509, 'with'),\n",
       " (510, 'a'),\n",
       " (511, 'fair'),\n",
       " (512, 'face,'),\n",
       " (513, 'on'),\n",
       " (514, 'the'),\n",
       " (515, 'throne'),\n",
       " (516, 'of'),\n",
       " (517, 'france.'),\n",
       " (518, 'in'),\n",
       " (519, 'both'),\n",
       " (520, 'countries'),\n",
       " (521, 'it'),\n",
       " (522, 'was'),\n",
       " (523, 'clearer'),\n",
       " (524, 'than'),\n",
       " (525, 'crystal'),\n",
       " (526, 'to'),\n",
       " (527, 'the'),\n",
       " (528, 'lords'),\n",
       " (529, 'of'),\n",
       " (530, 'the'),\n",
       " (531, 'state'),\n",
       " (532, 'preserves'),\n",
       " (533, 'of'),\n",
       " (534, 'loaves'),\n",
       " (535, 'and'),\n",
       " (536, 'fishes,'),\n",
       " (537, 'that'),\n",
       " (538, 'things'),\n",
       " (539, 'in'),\n",
       " (540, 'general'),\n",
       " (541, 'were'),\n",
       " (542, 'settled'),\n",
       " (543, 'for'),\n",
       " (544, 'ever.'),\n",
       " (545, 'it'),\n",
       " (546, 'was'),\n",
       " (547, 'the'),\n",
       " (548, 'year'),\n",
       " (549, 'of'),\n",
       " (550, 'our'),\n",
       " (551, 'lord'),\n",
       " (552, 'one'),\n",
       " (553, 'thousand'),\n",
       " (554, 'seven'),\n",
       " (555, 'hundred'),\n",
       " (556, 'and'),\n",
       " (557, 'seventy-five.'),\n",
       " (558, 'spiritual'),\n",
       " (559, 'revelations'),\n",
       " (560, 'were'),\n",
       " (561, 'conceded'),\n",
       " (562, 'to'),\n",
       " (563, 'england'),\n",
       " (564, 'at'),\n",
       " (565, 'that'),\n",
       " (566, 'favoured'),\n",
       " (567, 'period,'),\n",
       " (568, 'as'),\n",
       " (569, 'at'),\n",
       " (570, 'this.'),\n",
       " (571, 'mrs.'),\n",
       " (572, 'southcott'),\n",
       " (573, 'had'),\n",
       " (574, 'recently'),\n",
       " (575, 'attained'),\n",
       " (576, 'her'),\n",
       " (577, 'five-and-twentieth'),\n",
       " (578, 'blessed'),\n",
       " (579, 'birthday,'),\n",
       " (580, 'of'),\n",
       " (581, 'whom'),\n",
       " (582, 'a'),\n",
       " (583, 'prophetic'),\n",
       " (584, 'private'),\n",
       " (585, 'in'),\n",
       " (586, 'the'),\n",
       " (587, 'life'),\n",
       " (588, 'guards'),\n",
       " (589, 'had'),\n",
       " (590, 'heralded'),\n",
       " (591, 'the'),\n",
       " (592, 'sublime'),\n",
       " (593, 'appearance'),\n",
       " (594, 'by'),\n",
       " (595, 'announcing'),\n",
       " (596, 'that'),\n",
       " (597, 'arrangements'),\n",
       " (598, 'were'),\n",
       " (599, 'made'),\n",
       " (600, 'for'),\n",
       " (601, 'the'),\n",
       " (602, 'swallowing'),\n",
       " (603, 'up'),\n",
       " (604, 'of'),\n",
       " (605, 'london'),\n",
       " (606, 'and'),\n",
       " (607, 'westminster.'),\n",
       " (608, 'even'),\n",
       " (609, 'the'),\n",
       " (610, 'cock-lane'),\n",
       " (611, 'ghost'),\n",
       " (612, 'had'),\n",
       " (613, 'been'),\n",
       " (614, 'laid'),\n",
       " (615, 'only'),\n",
       " (616, 'a'),\n",
       " (617, 'round'),\n",
       " (618, 'dozen'),\n",
       " (619, 'of'),\n",
       " (620, 'years,'),\n",
       " (621, 'after'),\n",
       " (622, 'rapping'),\n",
       " (623, 'out'),\n",
       " (624, 'its'),\n",
       " (625, 'messages,'),\n",
       " (626, 'as'),\n",
       " (627, 'the'),\n",
       " (628, 'spirits'),\n",
       " (629, 'of'),\n",
       " (630, 'this'),\n",
       " (631, 'very'),\n",
       " (632, 'year'),\n",
       " (633, 'last'),\n",
       " (634, 'past'),\n",
       " (635, '(supernaturally'),\n",
       " (636, 'deficient'),\n",
       " (637, 'in'),\n",
       " (638, 'originality)'),\n",
       " (639, 'rapped'),\n",
       " (640, 'out'),\n",
       " (641, 'theirs.'),\n",
       " (642, 'mere'),\n",
       " (643, 'messages'),\n",
       " (644, 'in'),\n",
       " (645, 'the'),\n",
       " (646, 'earthly'),\n",
       " (647, 'order'),\n",
       " (648, 'of'),\n",
       " (649, 'events'),\n",
       " (650, 'had'),\n",
       " (651, 'lately'),\n",
       " (652, 'come'),\n",
       " (653, 'to'),\n",
       " (654, 'the'),\n",
       " (655, 'english'),\n",
       " (656, 'crown'),\n",
       " (657, 'and'),\n",
       " (658, 'people,'),\n",
       " (659, 'from'),\n",
       " (660, 'a'),\n",
       " (661, 'congress'),\n",
       " (662, 'of'),\n",
       " (663, 'british'),\n",
       " (664, 'subjects'),\n",
       " (665, 'in'),\n",
       " (666, 'america:'),\n",
       " (667, 'which,'),\n",
       " (668, 'strange'),\n",
       " (669, 'to'),\n",
       " (670, 'relate,'),\n",
       " (671, 'have'),\n",
       " (672, 'proved'),\n",
       " (673, 'more'),\n",
       " (674, 'important'),\n",
       " (675, 'to'),\n",
       " (676, 'the'),\n",
       " (677, 'human'),\n",
       " (678, 'race'),\n",
       " (679, 'than'),\n",
       " (680, 'any'),\n",
       " (681, 'communications'),\n",
       " (682, 'yet'),\n",
       " (683, 'received'),\n",
       " (684, 'through'),\n",
       " (685, 'any'),\n",
       " (686, 'of'),\n",
       " (687, 'the'),\n",
       " (688, 'chickens'),\n",
       " (689, 'of'),\n",
       " (690, 'the'),\n",
       " (691, 'cock-lane'),\n",
       " (692, 'brood.'),\n",
       " (693, 'france,'),\n",
       " (694, 'less'),\n",
       " (695, 'favoured'),\n",
       " (696, 'on'),\n",
       " (697, 'the'),\n",
       " (698, 'whole'),\n",
       " (699, 'as'),\n",
       " (700, 'to'),\n",
       " (701, 'matters'),\n",
       " (702, 'spiritual'),\n",
       " (703, 'than'),\n",
       " (704, 'her'),\n",
       " (705, 'sister'),\n",
       " (706, 'of'),\n",
       " (707, 'the'),\n",
       " (708, 'shield'),\n",
       " (709, 'and'),\n",
       " (710, 'trident,'),\n",
       " (711, 'rolled'),\n",
       " (712, 'with'),\n",
       " (713, 'exceeding'),\n",
       " (714, 'smoothness'),\n",
       " (715, 'down'),\n",
       " (716, 'hill,'),\n",
       " (717, 'making'),\n",
       " (718, 'paper'),\n",
       " (719, 'money'),\n",
       " (720, 'and'),\n",
       " (721, 'spending'),\n",
       " (722, 'it.'),\n",
       " (723, 'under'),\n",
       " (724, 'the'),\n",
       " (725, 'guidance'),\n",
       " (726, 'of'),\n",
       " (727, 'her'),\n",
       " (728, 'christian'),\n",
       " (729, 'pastors,'),\n",
       " (730, 'she'),\n",
       " (731, 'entertained'),\n",
       " (732, 'herself,'),\n",
       " (733, 'besides,'),\n",
       " (734, 'with'),\n",
       " (735, 'such'),\n",
       " (736, 'humane'),\n",
       " (737, 'achievements'),\n",
       " (738, 'as'),\n",
       " (739, 'sentencing'),\n",
       " (740, 'a'),\n",
       " (741, 'youth'),\n",
       " (742, 'to'),\n",
       " (743, 'have'),\n",
       " (744, 'his'),\n",
       " (745, 'hands'),\n",
       " (746, 'cut'),\n",
       " (747, 'off,'),\n",
       " (748, 'his'),\n",
       " (749, 'tongue'),\n",
       " (750, 'torn'),\n",
       " (751, 'out'),\n",
       " (752, 'with'),\n",
       " (753, 'pincers,'),\n",
       " (754, 'and'),\n",
       " (755, 'his'),\n",
       " (756, 'body'),\n",
       " (757, 'burned'),\n",
       " (758, 'alive,'),\n",
       " (759, 'because'),\n",
       " (760, 'he'),\n",
       " (761, 'had'),\n",
       " (762, 'not'),\n",
       " (763, 'kneeled'),\n",
       " (764, 'down'),\n",
       " (765, 'in'),\n",
       " (766, 'the'),\n",
       " (767, 'rain'),\n",
       " (768, 'to'),\n",
       " (769, 'do'),\n",
       " (770, 'honour'),\n",
       " (771, 'to'),\n",
       " (772, 'a'),\n",
       " (773, 'dirty'),\n",
       " (774, 'procession'),\n",
       " (775, 'of'),\n",
       " (776, 'monks'),\n",
       " (777, 'which'),\n",
       " (778, 'passed'),\n",
       " (779, 'within'),\n",
       " (780, 'his'),\n",
       " (781, 'view,'),\n",
       " (782, 'at'),\n",
       " (783, 'a'),\n",
       " (784, 'distance'),\n",
       " (785, 'of'),\n",
       " (786, 'some'),\n",
       " (787, 'fifty'),\n",
       " (788, 'or'),\n",
       " (789, 'sixty'),\n",
       " (790, 'yards.'),\n",
       " (791, 'it'),\n",
       " (792, 'is'),\n",
       " (793, 'likely'),\n",
       " (794, 'enough'),\n",
       " (795, 'that,'),\n",
       " (796, 'rooted'),\n",
       " (797, 'in'),\n",
       " (798, 'the'),\n",
       " (799, 'woods'),\n",
       " (800, 'of'),\n",
       " (801, 'france'),\n",
       " (802, 'and'),\n",
       " (803, 'norway,'),\n",
       " (804, 'there'),\n",
       " (805, 'were'),\n",
       " (806, 'growing'),\n",
       " (807, 'trees,'),\n",
       " (808, 'when'),\n",
       " (809, 'that'),\n",
       " (810, 'sufferer'),\n",
       " (811, 'was'),\n",
       " (812, 'put'),\n",
       " (813, 'to'),\n",
       " (814, 'death,'),\n",
       " (815, 'already'),\n",
       " (816, 'marked'),\n",
       " (817, 'by'),\n",
       " (818, 'the'),\n",
       " (819, 'woodman,'),\n",
       " (820, 'fate,'),\n",
       " (821, 'to'),\n",
       " (822, 'come'),\n",
       " (823, 'down'),\n",
       " (824, 'and'),\n",
       " (825, 'be'),\n",
       " (826, 'sawn'),\n",
       " (827, 'into'),\n",
       " (828, 'boards,'),\n",
       " (829, 'to'),\n",
       " (830, 'make'),\n",
       " (831, 'a'),\n",
       " (832, 'certain'),\n",
       " (833, 'movable'),\n",
       " (834, 'framework'),\n",
       " (835, 'with'),\n",
       " (836, 'a'),\n",
       " (837, 'sack'),\n",
       " (838, 'and'),\n",
       " (839, 'a'),\n",
       " (840, 'knife'),\n",
       " (841, 'in'),\n",
       " (842, 'it,'),\n",
       " (843, 'terrible'),\n",
       " (844, 'in'),\n",
       " (845, 'history.'),\n",
       " (846, 'it'),\n",
       " (847, 'is'),\n",
       " (848, 'likely'),\n",
       " (849, 'enough'),\n",
       " (850, 'that'),\n",
       " (851, 'in'),\n",
       " (852, 'the'),\n",
       " (853, 'rough'),\n",
       " (854, 'outhouses'),\n",
       " (855, 'of'),\n",
       " (856, 'some'),\n",
       " (857, 'tillers'),\n",
       " (858, 'of'),\n",
       " (859, 'the'),\n",
       " (860, 'heavy'),\n",
       " (861, 'lands'),\n",
       " (862, 'adjacent'),\n",
       " (863, 'to'),\n",
       " (864, 'paris,'),\n",
       " (865, 'there'),\n",
       " (866, 'were'),\n",
       " (867, 'sheltered'),\n",
       " (868, 'from'),\n",
       " (869, 'the'),\n",
       " (870, 'weather'),\n",
       " (871, 'that'),\n",
       " (872, 'very'),\n",
       " (873, 'day,'),\n",
       " (874, 'rude'),\n",
       " (875, 'carts,'),\n",
       " (876, 'bespattered'),\n",
       " (877, 'with'),\n",
       " (878, 'rustic'),\n",
       " (879, 'mire,'),\n",
       " (880, 'snuffed'),\n",
       " (881, 'about'),\n",
       " (882, 'by'),\n",
       " (883, 'pigs,'),\n",
       " (884, 'and'),\n",
       " (885, 'roosted'),\n",
       " (886, 'in'),\n",
       " (887, 'by'),\n",
       " (888, 'poultry,'),\n",
       " (889, 'which'),\n",
       " (890, 'the'),\n",
       " (891, 'farmer,'),\n",
       " (892, 'death,'),\n",
       " (893, 'had'),\n",
       " (894, 'already'),\n",
       " (895, 'set'),\n",
       " (896, 'apart'),\n",
       " (897, 'to'),\n",
       " (898, 'be'),\n",
       " (899, 'his'),\n",
       " (900, 'tumbrils'),\n",
       " (901, 'of'),\n",
       " (902, 'the'),\n",
       " (903, 'revolution.'),\n",
       " (904, 'but'),\n",
       " (905, 'that'),\n",
       " (906, 'woodman'),\n",
       " (907, 'and'),\n",
       " (908, 'that'),\n",
       " (909, 'farmer,'),\n",
       " (910, 'though'),\n",
       " (911, 'they'),\n",
       " (912, 'work'),\n",
       " (913, 'unceasingly,'),\n",
       " (914, 'work'),\n",
       " (915, 'silently,'),\n",
       " (916, 'and'),\n",
       " (917, 'no'),\n",
       " (918, 'one'),\n",
       " (919, 'heard'),\n",
       " (920, 'them'),\n",
       " (921, 'as'),\n",
       " (922, 'they'),\n",
       " (923, 'went'),\n",
       " (924, 'about'),\n",
       " (925, 'with'),\n",
       " (926, 'muffled'),\n",
       " (927, 'tread:'),\n",
       " (928, 'the'),\n",
       " (929, 'rather,'),\n",
       " (930, 'forasmuch'),\n",
       " (931, 'as'),\n",
       " (932, 'to'),\n",
       " (933, 'entertain'),\n",
       " (934, 'any'),\n",
       " (935, 'suspicion'),\n",
       " (936, 'that'),\n",
       " (937, 'they'),\n",
       " (938, 'were'),\n",
       " (939, 'awake,'),\n",
       " (940, 'was'),\n",
       " (941, 'to'),\n",
       " (942, 'be'),\n",
       " (943, 'atheistical'),\n",
       " (944, 'and'),\n",
       " (945, 'traitorous.'),\n",
       " (946, 'in'),\n",
       " (947, 'england,'),\n",
       " (948, 'there'),\n",
       " (949, 'was'),\n",
       " (950, 'scarcely'),\n",
       " (951, 'an'),\n",
       " (952, 'amount'),\n",
       " (953, 'of'),\n",
       " (954, 'order'),\n",
       " (955, 'and'),\n",
       " (956, 'protection'),\n",
       " (957, 'to'),\n",
       " (958, 'justify'),\n",
       " (959, 'much'),\n",
       " (960, 'national'),\n",
       " (961, 'boasting.'),\n",
       " (962, 'daring'),\n",
       " (963, 'burglaries'),\n",
       " (964, 'by'),\n",
       " (965, 'armed'),\n",
       " (966, 'men,'),\n",
       " (967, 'and'),\n",
       " (968, 'highway'),\n",
       " (969, 'robberies,'),\n",
       " (970, 'took'),\n",
       " (971, 'place'),\n",
       " (972, 'in'),\n",
       " (973, 'the'),\n",
       " (974, 'capital'),\n",
       " (975, 'itself'),\n",
       " (976, 'every'),\n",
       " (977, 'night;'),\n",
       " (978, 'families'),\n",
       " (979, 'were'),\n",
       " (980, 'publicly'),\n",
       " (981, 'cautioned'),\n",
       " (982, 'not'),\n",
       " (983, 'to'),\n",
       " (984, 'go'),\n",
       " (985, 'out'),\n",
       " (986, 'of'),\n",
       " (987, 'town'),\n",
       " (988, 'without'),\n",
       " (989, 'removing'),\n",
       " (990, 'their'),\n",
       " (991, 'furniture'),\n",
       " (992, 'to'),\n",
       " (993, 'upholsterers\\xe2\\x80\\x99'),\n",
       " (994, 'warehouses'),\n",
       " (995, 'for'),\n",
       " (996, 'security;'),\n",
       " (997, 'the'),\n",
       " (998, 'highwayman'),\n",
       " (999, 'in'),\n",
       " ...]"
      ]
     },
     "execution_count": 184,
     "metadata": {},
     "output_type": "execute_result"
    }
   ],
   "source": [
    "h.items()"
   ]
  },
  {
   "cell_type": "code",
   "execution_count": 187,
   "metadata": {},
   "outputs": [],
   "source": [
    "int_dict = defaultdict(int)"
   ]
  },
  {
   "cell_type": "code",
   "execution_count": 189,
   "metadata": {},
   "outputs": [
    {
     "name": "stdout",
     "output_type": "stream",
     "text": [
      "defaultdict(<type 'int'>, {})\n"
     ]
    }
   ],
   "source": [
    "print(int_dict)"
   ]
  },
  {
   "cell_type": "code",
   "execution_count": 190,
   "metadata": {},
   "outputs": [],
   "source": [
    "newdict = defaultdict(dict)"
   ]
  },
  {
   "cell_type": "code",
   "execution_count": 192,
   "metadata": {},
   "outputs": [],
   "source": [
    "newdict[\"Joel\"][\"City\"] = \"Seattle\""
   ]
  },
  {
   "cell_type": "code",
   "execution_count": 193,
   "metadata": {},
   "outputs": [
    {
     "data": {
      "text/plain": [
       "defaultdict(dict, {'Joel': {'City': 'Seattle'}})"
      ]
     },
     "execution_count": 193,
     "metadata": {},
     "output_type": "execute_result"
    }
   ],
   "source": [
    "newdict"
   ]
  },
  {
   "cell_type": "code",
   "execution_count": 199,
   "metadata": {},
   "outputs": [],
   "source": [
    "even_numbers = [x for x in range(5) if x %2==0]"
   ]
  },
  {
   "cell_type": "code",
   "execution_count": 200,
   "metadata": {},
   "outputs": [
    {
     "data": {
      "text/plain": [
       "[0, 2, 4]"
      ]
     },
     "execution_count": 200,
     "metadata": {},
     "output_type": "execute_result"
    }
   ],
   "source": [
    "even_numbers"
   ]
  },
  {
   "cell_type": "code",
   "execution_count": 201,
   "metadata": {},
   "outputs": [],
   "source": [
    "even_squares = [x*x for x in even_numbers]"
   ]
  },
  {
   "cell_type": "code",
   "execution_count": 202,
   "metadata": {},
   "outputs": [
    {
     "data": {
      "text/plain": [
       "[0, 4, 16]"
      ]
     },
     "execution_count": 202,
     "metadata": {},
     "output_type": "execute_result"
    }
   ],
   "source": [
    "even_squares"
   ]
  },
  {
   "cell_type": "code",
   "execution_count": 203,
   "metadata": {},
   "outputs": [],
   "source": [
    "A = [[1,2,3],[4,5,6],[7,8,9]]"
   ]
  },
  {
   "cell_type": "code",
   "execution_count": 204,
   "metadata": {},
   "outputs": [
    {
     "data": {
      "text/plain": [
       "[[1, 2, 3], [4, 5, 6], [7, 8, 9]]"
      ]
     },
     "execution_count": 204,
     "metadata": {},
     "output_type": "execute_result"
    }
   ],
   "source": [
    "A"
   ]
  },
  {
   "cell_type": "code",
   "execution_count": 207,
   "metadata": {},
   "outputs": [
    {
     "data": {
      "text/plain": [
       "5"
      ]
     },
     "execution_count": 207,
     "metadata": {},
     "output_type": "execute_result"
    }
   ],
   "source": [
    "A[1][1]"
   ]
  },
  {
   "cell_type": "code",
   "execution_count": 209,
   "metadata": {},
   "outputs": [
    {
     "data": {
      "text/plain": [
       "array([[1., 0., 0., 0.],\n",
       "       [0., 1., 0., 0.],\n",
       "       [0., 0., 1., 0.],\n",
       "       [0., 0., 0., 1.]])"
      ]
     },
     "execution_count": 209,
     "metadata": {},
     "output_type": "execute_result"
    }
   ],
   "source": [
    "np.eye(4)"
   ]
  },
  {
   "cell_type": "code",
   "execution_count": 212,
   "metadata": {},
   "outputs": [],
   "source": [
    "x = [92.0,84.0,99.0,96.0,88.0,78.0,97.0]"
   ]
  },
  {
   "cell_type": "code",
   "execution_count": 222,
   "metadata": {},
   "outputs": [
    {
     "data": {
      "text/plain": [
       "90.57142857142857"
      ]
     },
     "execution_count": 222,
     "metadata": {},
     "output_type": "execute_result"
    }
   ],
   "source": [
    "sum(x)/len(x)"
   ]
  },
  {
   "cell_type": "code",
   "execution_count": 216,
   "metadata": {},
   "outputs": [
    {
     "data": {
      "text/plain": [
       "90.57142857142857"
      ]
     },
     "execution_count": 216,
     "metadata": {},
     "output_type": "execute_result"
    }
   ],
   "source": [
    "np.mean(x)"
   ]
  },
  {
   "cell_type": "code",
   "execution_count": 228,
   "metadata": {},
   "outputs": [
    {
     "data": {
      "text/plain": [
       "92.0"
      ]
     },
     "execution_count": 228,
     "metadata": {},
     "output_type": "execute_result"
    }
   ],
   "source": [
    "np.median(x)"
   ]
  },
  {
   "cell_type": "code",
   "execution_count": 234,
   "metadata": {},
   "outputs": [
    {
     "data": {
      "text/plain": [
       "92.0"
      ]
     },
     "execution_count": 234,
     "metadata": {},
     "output_type": "execute_result"
    }
   ],
   "source": [
    "np.quantile(x,.50) ##this is actually just the median"
   ]
  },
  {
   "cell_type": "code",
   "execution_count": 235,
   "metadata": {},
   "outputs": [
    {
     "data": {
      "text/plain": [
       "86.0"
      ]
     },
     "execution_count": 235,
     "metadata": {},
     "output_type": "execute_result"
    }
   ],
   "source": [
    "np.quantile(x,.25)"
   ]
  },
  {
   "cell_type": "code",
   "execution_count": 236,
   "metadata": {},
   "outputs": [
    {
     "data": {
      "text/plain": [
       "96.5"
      ]
     },
     "execution_count": 236,
     "metadata": {},
     "output_type": "execute_result"
    }
   ],
   "source": [
    "np.quantile(x,.75)"
   ]
  },
  {
   "cell_type": "code",
   "execution_count": 249,
   "metadata": {},
   "outputs": [
    {
     "name": "stdout",
     "output_type": "stream",
     "text": [
      "The Interquantile range is 10.5.\n"
     ]
    }
   ],
   "source": [
    "print(\"The Interquantile range is {}.\".format(np.quantile(x,.75) - np.quantile(x,.25)))"
   ]
  },
  {
   "cell_type": "code",
   "execution_count": 242,
   "metadata": {},
   "outputs": [
    {
     "data": {
      "text/plain": [
       "10.5"
      ]
     },
     "execution_count": 242,
     "metadata": {},
     "output_type": "execute_result"
    }
   ],
   "source": [
    "np.quantile(x,.75) - np.quantile(x,.25)"
   ]
  },
  {
   "cell_type": "code",
   "execution_count": 250,
   "metadata": {},
   "outputs": [
    {
     "ename": "AttributeError",
     "evalue": "'module' object has no attribute 'mode'",
     "output_type": "error",
     "traceback": [
      "\u001b[1;31m---------------------------------------------------------------------------\u001b[0m",
      "\u001b[1;31mAttributeError\u001b[0m                            Traceback (most recent call last)",
      "\u001b[1;32m<ipython-input-250-84689bebdc43>\u001b[0m in \u001b[0;36m<module>\u001b[1;34m()\u001b[0m\n\u001b[1;32m----> 1\u001b[1;33m \u001b[0mnp\u001b[0m\u001b[1;33m.\u001b[0m\u001b[0mmode\u001b[0m\u001b[1;33m(\u001b[0m\u001b[0mx\u001b[0m\u001b[1;33m)\u001b[0m\u001b[1;33m\u001b[0m\u001b[0m\n\u001b[0m",
      "\u001b[1;31mAttributeError\u001b[0m: 'module' object has no attribute 'mode'"
     ]
    }
   ],
   "source": [
    "np.mode(x)"
   ]
  },
  {
   "cell_type": "code",
   "execution_count": 252,
   "metadata": {},
   "outputs": [
    {
     "data": {
      "text/plain": [
       "ModeResult(mode=array([78.]), count=array([1]))"
      ]
     },
     "execution_count": 252,
     "metadata": {},
     "output_type": "execute_result"
    }
   ],
   "source": [
    "stats.mode(x)"
   ]
  },
  {
   "cell_type": "code",
   "execution_count": 257,
   "metadata": {},
   "outputs": [
    {
     "name": "stdout",
     "output_type": "stream",
     "text": [
      "21.0\n"
     ]
    }
   ],
   "source": [
    "xrange = max(x) - min(x)\n",
    "print(xrange)"
   ]
  },
  {
   "cell_type": "code",
   "execution_count": 354,
   "metadata": {},
   "outputs": [],
   "source": [
    "def x_stats(x):\n",
    "    x_mean = np.mean(x);\n",
    "    N = len(x);\n",
    "    a = range(N);\n",
    "    for i in range(N):\n",
    "        a[i] = (x[i] - x_mean)**2;\n",
    "    sum_square_diff = sum(a);\n",
    "    x_var = 1./N * sum_square_diff;\n",
    "    return x_mean, x_var "
   ]
  },
  {
   "cell_type": "code",
   "execution_count": 355,
   "metadata": {},
   "outputs": [],
   "source": [
    "xmean, xvar = x_stats(x)"
   ]
  },
  {
   "cell_type": "code",
   "execution_count": 356,
   "metadata": {},
   "outputs": [
    {
     "name": "stdout",
     "output_type": "stream",
     "text": [
      "(90.57142857142857, 50.24489795918368)\n"
     ]
    }
   ],
   "source": [
    "print(xmean,xvar)"
   ]
  },
  {
   "cell_type": "code",
   "execution_count": null,
   "metadata": {},
   "outputs": [],
   "source": []
  },
  {
   "cell_type": "code",
   "execution_count": 328,
   "metadata": {},
   "outputs": [
    {
     "name": "stdout",
     "output_type": "stream",
     "text": [
      "50.24489795918368\n",
      "7.0883635600315875\n"
     ]
    }
   ],
   "source": [
    "print(np.var(x))\n",
    "print(np.std(x))"
   ]
  },
  {
   "cell_type": "code",
   "execution_count": 326,
   "metadata": {},
   "outputs": [
    {
     "name": "stdout",
     "output_type": "stream",
     "text": [
      "7.0883635600315875\n"
     ]
    }
   ],
   "source": [
    "xstd = np.sqrt(x_var_function(x))\n",
    "print(xstd)"
   ]
  },
  {
   "cell_type": "code",
   "execution_count": 329,
   "metadata": {},
   "outputs": [
    {
     "data": {
      "text/plain": [
       "2"
      ]
     },
     "execution_count": 329,
     "metadata": {},
     "output_type": "execute_result"
    }
   ],
   "source": [
    "x.index(99)"
   ]
  },
  {
   "cell_type": "code",
   "execution_count": 313,
   "metadata": {},
   "outputs": [
    {
     "ename": "NameError",
     "evalue": "name 'variance_of_data' is not defined",
     "output_type": "error",
     "traceback": [
      "\u001b[1;31m---------------------------------------------------------------------------\u001b[0m",
      "\u001b[1;31mNameError\u001b[0m                                 Traceback (most recent call last)",
      "\u001b[1;32m<ipython-input-313-0eecf3a01fbb>\u001b[0m in \u001b[0;36m<module>\u001b[1;34m()\u001b[0m\n\u001b[1;32m----> 1\u001b[1;33m \u001b[0mvariance_of_data\u001b[0m\u001b[1;33m\u001b[0m\u001b[0m\n\u001b[0m",
      "\u001b[1;31mNameError\u001b[0m: name 'variance_of_data' is not defined"
     ]
    }
   ],
   "source": [
    "variance_of_data"
   ]
  },
  {
   "cell_type": "code",
   "execution_count": 304,
   "metadata": {},
   "outputs": [
    {
     "data": {
      "text/plain": [
       "[]"
      ]
     },
     "execution_count": 304,
     "metadata": {},
     "output_type": "execute_result"
    }
   ],
   "source": []
  },
  {
   "cell_type": "code",
   "execution_count": 334,
   "metadata": {},
   "outputs": [
    {
     "name": "stdout",
     "output_type": "stream",
     "text": [
      "[ 0.  1.  2.  3.  4.  5.  6.  7.  8.  9. 10.]\n"
     ]
    }
   ],
   "source": [
    "npxary = np.linspace(0,10,11)\n",
    "print(npxary)"
   ]
  },
  {
   "cell_type": "code",
   "execution_count": 343,
   "metadata": {},
   "outputs": [
    {
     "data": {
      "text/plain": [
       "3.1622776601683795"
      ]
     },
     "execution_count": 343,
     "metadata": {},
     "output_type": "execute_result"
    }
   ],
   "source": [
    "npxary.std()"
   ]
  },
  {
   "cell_type": "code",
   "execution_count": 344,
   "metadata": {},
   "outputs": [
    {
     "data": {
      "text/plain": [
       "10.0"
      ]
     },
     "execution_count": 344,
     "metadata": {},
     "output_type": "execute_result"
    }
   ],
   "source": [
    "np.var(npxary)"
   ]
  },
  {
   "cell_type": "code",
   "execution_count": 291,
   "metadata": {},
   "outputs": [],
   "source": [
    "np.var?"
   ]
  },
  {
   "cell_type": "code",
   "execution_count": null,
   "metadata": {},
   "outputs": [],
   "source": []
  },
  {
   "cell_type": "code",
   "execution_count": 292,
   "metadata": {},
   "outputs": [
    {
     "data": {
      "text/plain": [
       "7"
      ]
     },
     "execution_count": 292,
     "metadata": {},
     "output_type": "execute_result"
    }
   ],
   "source": [
    "len(x)"
   ]
  },
  {
   "cell_type": "code",
   "execution_count": 266,
   "metadata": {},
   "outputs": [
    {
     "data": {
      "text/plain": [
       "634.0"
      ]
     },
     "execution_count": 266,
     "metadata": {},
     "output_type": "execute_result"
    }
   ],
   "source": [
    "sum(x)"
   ]
  },
  {
   "cell_type": "code",
   "execution_count": 269,
   "metadata": {},
   "outputs": [
    {
     "name": "stdout",
     "output_type": "stream",
     "text": [
      "7\n"
     ]
    }
   ],
   "source": [
    "N = len(x)\n",
    "print(N)"
   ]
  },
  {
   "cell_type": "code",
   "execution_count": 270,
   "metadata": {},
   "outputs": [],
   "source": [
    "mean_x= np.mean(x)"
   ]
  },
  {
   "cell_type": "code",
   "execution_count": null,
   "metadata": {},
   "outputs": [],
   "source": [
    "(x(i))"
   ]
  },
  {
   "cell_type": "code",
   "execution_count": 426,
   "metadata": {},
   "outputs": [],
   "source": [
    "array_of_numbers = np.array([0.5, -6.0, -2.1, 3.78, 9.2, 17.0, -11.2]);"
   ]
  },
  {
   "cell_type": "code",
   "execution_count": 431,
   "metadata": {},
   "outputs": [],
   "source": [
    "N = len(array_of_numbers);\n",
    "delta_vals = np.empty((N-1,N-1))\n",
    "delta_vals[:] = np.nan;"
   ]
  },
  {
   "cell_type": "code",
   "execution_count": 432,
   "metadata": {},
   "outputs": [],
   "source": [
    "for j in range(0,N-2,1):\n",
    "    for i in range(j+1,N-1,1):\n",
    "        delta_vals[j,i] = abs(array_of_numbers[j] - array_of_numbers[i])"
   ]
  },
  {
   "cell_type": "code",
   "execution_count": 433,
   "metadata": {},
   "outputs": [
    {
     "data": {
      "text/plain": [
       "array([[  nan,  6.5 ,  2.6 ,  3.28,  8.7 , 16.5 ],\n",
       "       [  nan,   nan,  3.9 ,  9.78, 15.2 , 23.  ],\n",
       "       [  nan,   nan,   nan,  5.88, 11.3 , 19.1 ],\n",
       "       [  nan,   nan,   nan,   nan,  5.42, 13.22],\n",
       "       [  nan,   nan,   nan,   nan,   nan,  7.8 ],\n",
       "       [  nan,   nan,   nan,   nan,   nan,   nan]])"
      ]
     },
     "execution_count": 433,
     "metadata": {},
     "output_type": "execute_result"
    }
   ],
   "source": [
    "delta_vals"
   ]
  },
  {
   "cell_type": "code",
   "execution_count": 435,
   "metadata": {},
   "outputs": [
    {
     "data": {
      "text/plain": [
       "2.6"
      ]
     },
     "execution_count": 435,
     "metadata": {},
     "output_type": "execute_result"
    }
   ],
   "source": [
    "np.nanmin(delta_vals)"
   ]
  },
  {
   "cell_type": "code",
   "execution_count": 436,
   "metadata": {},
   "outputs": [
    {
     "name": "stdout",
     "output_type": "stream",
     "text": [
      "(array([0], dtype=int64), array([2], dtype=int64))\n"
     ]
    }
   ],
   "source": [
    "delta_min = np.where(delta_vals==np.nanmin(delta_vals))\n",
    "print(delta_min)"
   ]
  },
  {
   "cell_type": "code",
   "execution_count": 441,
   "metadata": {},
   "outputs": [],
   "source": [
    "def multiply(a,b):\n",
    "    mult_value = a*b\n",
    "    return mult_value"
   ]
  },
  {
   "cell_type": "code",
   "execution_count": 442,
   "metadata": {},
   "outputs": [
    {
     "data": {
      "text/plain": [
       "20"
      ]
     },
     "execution_count": 442,
     "metadata": {},
     "output_type": "execute_result"
    }
   ],
   "source": [
    "multiply(10,2)"
   ]
  },
  {
   "cell_type": "code",
   "execution_count": 444,
   "metadata": {},
   "outputs": [
    {
     "data": {
      "text/plain": [
       "2.0"
      ]
     },
     "execution_count": 444,
     "metadata": {},
     "output_type": "execute_result"
    }
   ],
   "source": [
    "np.log10(100)"
   ]
  },
  {
   "cell_type": "code",
   "execution_count": null,
   "metadata": {},
   "outputs": [],
   "source": []
  }
 ],
 "metadata": {
  "kernelspec": {
   "display_name": "Python 2",
   "language": "python",
   "name": "python2"
  },
  "language_info": {
   "codemirror_mode": {
    "name": "ipython",
    "version": 2
   },
   "file_extension": ".py",
   "mimetype": "text/x-python",
   "name": "python",
   "nbconvert_exporter": "python",
   "pygments_lexer": "ipython2",
   "version": "2.7.15"
  }
 },
 "nbformat": 4,
 "nbformat_minor": 2
}
